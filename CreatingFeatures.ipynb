{
  "nbformat": 4,
  "nbformat_minor": 0,
  "metadata": {
    "colab": {
      "name": "CreatingFeatures.ipynb",
      "provenance": [],
      "collapsed_sections": []
    },
    "kernelspec": {
      "display_name": "Python 3",
      "language": "python",
      "name": "python3"
    },
    "language_info": {
      "codemirror_mode": {
        "name": "ipython",
        "version": 3
      },
      "file_extension": ".py",
      "mimetype": "text/x-python",
      "name": "python",
      "nbconvert_exporter": "python",
      "pygments_lexer": "ipython3",
      "version": "3.7.0"
    }
  },
  "cells": [
    {
      "cell_type": "markdown",
      "metadata": {
        "id": "kdOgSV5Io03P"
      },
      "source": [
        "`Add csv files on to colab..`"
      ]
    },
    {
      "cell_type": "markdown",
      "metadata": {
        "id": "pY8n2JfPo8QZ"
      },
      "source": [
        "    Install RDKit library to start working with python..."
      ]
    },
    {
      "cell_type": "code",
      "metadata": {
        "colab": {
          "base_uri": "https://localhost:8080/"
        },
        "id": "Q-dgRhRkwAb0",
        "outputId": "9ad7654c-990b-4872-ad34-f4e4f05e2df0"
      },
      "source": [
        "# Install RDKit. \n",
        "!pip install kora\n",
        "import kora.install.rdkit"
      ],
      "execution_count": null,
      "outputs": [
        {
          "output_type": "stream",
          "text": [
            "Requirement already satisfied: kora in /usr/local/lib/python3.6/dist-packages (0.9.19)\n",
            "Requirement already satisfied: ipython in /usr/local/lib/python3.6/dist-packages (from kora) (5.5.0)\n",
            "Requirement already satisfied: fastcore in /usr/local/lib/python3.6/dist-packages (from kora) (1.3.19)\n",
            "Requirement already satisfied: setuptools>=18.5 in /usr/local/lib/python3.6/dist-packages (from ipython->kora) (53.0.0)\n",
            "Requirement already satisfied: pygments in /usr/local/lib/python3.6/dist-packages (from ipython->kora) (2.6.1)\n",
            "Requirement already satisfied: traitlets>=4.2 in /usr/local/lib/python3.6/dist-packages (from ipython->kora) (4.3.3)\n",
            "Requirement already satisfied: decorator in /usr/local/lib/python3.6/dist-packages (from ipython->kora) (4.4.2)\n",
            "Requirement already satisfied: simplegeneric>0.8 in /usr/local/lib/python3.6/dist-packages (from ipython->kora) (0.8.1)\n",
            "Requirement already satisfied: pickleshare in /usr/local/lib/python3.6/dist-packages (from ipython->kora) (0.7.5)\n",
            "Requirement already satisfied: pexpect; sys_platform != \"win32\" in /usr/local/lib/python3.6/dist-packages (from ipython->kora) (4.8.0)\n",
            "Requirement already satisfied: prompt-toolkit<2.0.0,>=1.0.4 in /usr/local/lib/python3.6/dist-packages (from ipython->kora) (1.0.18)\n",
            "Requirement already satisfied: packaging in /usr/local/lib/python3.6/dist-packages (from fastcore->kora) (20.9)\n",
            "Requirement already satisfied: pip in /usr/local/lib/python3.6/dist-packages (from fastcore->kora) (19.3.1)\n",
            "Requirement already satisfied: ipython-genutils in /usr/local/lib/python3.6/dist-packages (from traitlets>=4.2->ipython->kora) (0.2.0)\n",
            "Requirement already satisfied: six in /usr/local/lib/python3.6/dist-packages (from traitlets>=4.2->ipython->kora) (1.15.0)\n",
            "Requirement already satisfied: ptyprocess>=0.5 in /usr/local/lib/python3.6/dist-packages (from pexpect; sys_platform != \"win32\"->ipython->kora) (0.7.0)\n",
            "Requirement already satisfied: wcwidth in /usr/local/lib/python3.6/dist-packages (from prompt-toolkit<2.0.0,>=1.0.4->ipython->kora) (0.2.5)\n",
            "Requirement already satisfied: pyparsing>=2.0.2 in /usr/local/lib/python3.6/dist-packages (from packaging->fastcore->kora) (2.4.7)\n"
          ],
          "name": "stdout"
        }
      ]
    },
    {
      "cell_type": "code",
      "metadata": {
        "id": "O4II53mRrPp7"
      },
      "source": [
        "import kora.install.rdkit"
      ],
      "execution_count": null,
      "outputs": []
    },
    {
      "cell_type": "code",
      "metadata": {
        "id": "RXg_4dQFwKPg"
      },
      "source": [
        "from rdkit import Chem\n",
        "from rdkit.Chem import Draw\n",
        "from rdkit.Chem.Draw import IPythonConsole\n",
        "from rdkit.Chem import rdMolDescriptors\n",
        "from rdkit.Chem import Descriptors\n",
        "from rdkit.Chem import AllChem\n",
        "from rdkit import DataStructs\n",
        "import numpy as np"
      ],
      "execution_count": null,
      "outputs": []
    },
    {
      "cell_type": "markdown",
      "metadata": {
        "id": "ARbisBI1pE27"
      },
      "source": [
        "`Reading Sider data... (Smiles + ADR Labels)`"
      ]
    },
    {
      "cell_type": "code",
      "metadata": {
        "colab": {
          "base_uri": "https://localhost:8080/",
          "height": 343
        },
        "id": "PN3fTVmmV7bj",
        "outputId": "ec526384-fc5d-49d2-da9a-13c21f4f1d51"
      },
      "source": [
        "import pandas as pd\n",
        "\n",
        "sider = pd.read_csv('sider.csv')\n",
        "\n",
        "sider.head()"
      ],
      "execution_count": null,
      "outputs": [
        {
          "output_type": "execute_result",
          "data": {
            "text/html": [
              "<div>\n",
              "<style scoped>\n",
              "    .dataframe tbody tr th:only-of-type {\n",
              "        vertical-align: middle;\n",
              "    }\n",
              "\n",
              "    .dataframe tbody tr th {\n",
              "        vertical-align: top;\n",
              "    }\n",
              "\n",
              "    .dataframe thead th {\n",
              "        text-align: right;\n",
              "    }\n",
              "</style>\n",
              "<table border=\"1\" class=\"dataframe\">\n",
              "  <thead>\n",
              "    <tr style=\"text-align: right;\">\n",
              "      <th></th>\n",
              "      <th>smiles</th>\n",
              "      <th>Hepatobiliary disorders</th>\n",
              "      <th>Metabolism and nutrition disorders</th>\n",
              "      <th>Product issues</th>\n",
              "      <th>Eye disorders</th>\n",
              "      <th>Investigations</th>\n",
              "      <th>Musculoskeletal and connective tissue disorders</th>\n",
              "      <th>Gastrointestinal disorders</th>\n",
              "      <th>Social circumstances</th>\n",
              "      <th>Immune system disorders</th>\n",
              "      <th>Reproductive system and breast disorders</th>\n",
              "      <th>Neoplasms benign, malignant and unspecified (incl cysts and polyps)</th>\n",
              "      <th>General disorders and administration site conditions</th>\n",
              "      <th>Endocrine disorders</th>\n",
              "      <th>Surgical and medical procedures</th>\n",
              "      <th>Vascular disorders</th>\n",
              "      <th>Blood and lymphatic system disorders</th>\n",
              "      <th>Skin and subcutaneous tissue disorders</th>\n",
              "      <th>Congenital, familial and genetic disorders</th>\n",
              "      <th>Infections and infestations</th>\n",
              "      <th>Respiratory, thoracic and mediastinal disorders</th>\n",
              "      <th>Psychiatric disorders</th>\n",
              "      <th>Renal and urinary disorders</th>\n",
              "      <th>Pregnancy, puerperium and perinatal conditions</th>\n",
              "      <th>Ear and labyrinth disorders</th>\n",
              "      <th>Cardiac disorders</th>\n",
              "      <th>Nervous system disorders</th>\n",
              "      <th>Injury, poisoning and procedural complications</th>\n",
              "    </tr>\n",
              "  </thead>\n",
              "  <tbody>\n",
              "    <tr>\n",
              "      <th>0</th>\n",
              "      <td>C(CNCCNCCNCCN)N</td>\n",
              "      <td>1</td>\n",
              "      <td>1</td>\n",
              "      <td>0</td>\n",
              "      <td>0</td>\n",
              "      <td>1</td>\n",
              "      <td>1</td>\n",
              "      <td>1</td>\n",
              "      <td>0</td>\n",
              "      <td>0</td>\n",
              "      <td>0</td>\n",
              "      <td>0</td>\n",
              "      <td>1</td>\n",
              "      <td>0</td>\n",
              "      <td>0</td>\n",
              "      <td>0</td>\n",
              "      <td>0</td>\n",
              "      <td>1</td>\n",
              "      <td>0</td>\n",
              "      <td>0</td>\n",
              "      <td>1</td>\n",
              "      <td>1</td>\n",
              "      <td>0</td>\n",
              "      <td>0</td>\n",
              "      <td>1</td>\n",
              "      <td>1</td>\n",
              "      <td>1</td>\n",
              "      <td>0</td>\n",
              "    </tr>\n",
              "    <tr>\n",
              "      <th>1</th>\n",
              "      <td>CC(C)(C)C1=CC(=C(C=C1NC(=O)C2=CNC3=CC=CC=C3C2=...</td>\n",
              "      <td>0</td>\n",
              "      <td>1</td>\n",
              "      <td>0</td>\n",
              "      <td>0</td>\n",
              "      <td>1</td>\n",
              "      <td>1</td>\n",
              "      <td>1</td>\n",
              "      <td>0</td>\n",
              "      <td>0</td>\n",
              "      <td>1</td>\n",
              "      <td>0</td>\n",
              "      <td>0</td>\n",
              "      <td>0</td>\n",
              "      <td>0</td>\n",
              "      <td>0</td>\n",
              "      <td>0</td>\n",
              "      <td>1</td>\n",
              "      <td>0</td>\n",
              "      <td>1</td>\n",
              "      <td>1</td>\n",
              "      <td>0</td>\n",
              "      <td>0</td>\n",
              "      <td>0</td>\n",
              "      <td>1</td>\n",
              "      <td>0</td>\n",
              "      <td>1</td>\n",
              "      <td>0</td>\n",
              "    </tr>\n",
              "    <tr>\n",
              "      <th>2</th>\n",
              "      <td>CC[C@]12CC(=C)[C@H]3[C@H]([C@@H]1CC[C@]2(C#C)O...</td>\n",
              "      <td>0</td>\n",
              "      <td>1</td>\n",
              "      <td>0</td>\n",
              "      <td>1</td>\n",
              "      <td>1</td>\n",
              "      <td>0</td>\n",
              "      <td>1</td>\n",
              "      <td>0</td>\n",
              "      <td>1</td>\n",
              "      <td>1</td>\n",
              "      <td>1</td>\n",
              "      <td>0</td>\n",
              "      <td>0</td>\n",
              "      <td>0</td>\n",
              "      <td>1</td>\n",
              "      <td>0</td>\n",
              "      <td>1</td>\n",
              "      <td>0</td>\n",
              "      <td>0</td>\n",
              "      <td>0</td>\n",
              "      <td>1</td>\n",
              "      <td>0</td>\n",
              "      <td>0</td>\n",
              "      <td>0</td>\n",
              "      <td>0</td>\n",
              "      <td>1</td>\n",
              "      <td>0</td>\n",
              "    </tr>\n",
              "    <tr>\n",
              "      <th>3</th>\n",
              "      <td>CCC12CC(=C)C3C(C1CC[C@]2(C#C)O)CCC4=CC(=O)CCC34</td>\n",
              "      <td>1</td>\n",
              "      <td>1</td>\n",
              "      <td>0</td>\n",
              "      <td>1</td>\n",
              "      <td>1</td>\n",
              "      <td>1</td>\n",
              "      <td>1</td>\n",
              "      <td>0</td>\n",
              "      <td>1</td>\n",
              "      <td>1</td>\n",
              "      <td>1</td>\n",
              "      <td>1</td>\n",
              "      <td>0</td>\n",
              "      <td>1</td>\n",
              "      <td>1</td>\n",
              "      <td>0</td>\n",
              "      <td>1</td>\n",
              "      <td>1</td>\n",
              "      <td>1</td>\n",
              "      <td>1</td>\n",
              "      <td>1</td>\n",
              "      <td>1</td>\n",
              "      <td>1</td>\n",
              "      <td>0</td>\n",
              "      <td>0</td>\n",
              "      <td>1</td>\n",
              "      <td>1</td>\n",
              "    </tr>\n",
              "    <tr>\n",
              "      <th>4</th>\n",
              "      <td>C1C(C2=CC=CC=C2N(C3=CC=CC=C31)C(=O)N)O</td>\n",
              "      <td>1</td>\n",
              "      <td>1</td>\n",
              "      <td>0</td>\n",
              "      <td>1</td>\n",
              "      <td>1</td>\n",
              "      <td>1</td>\n",
              "      <td>1</td>\n",
              "      <td>0</td>\n",
              "      <td>1</td>\n",
              "      <td>0</td>\n",
              "      <td>0</td>\n",
              "      <td>1</td>\n",
              "      <td>0</td>\n",
              "      <td>0</td>\n",
              "      <td>1</td>\n",
              "      <td>1</td>\n",
              "      <td>1</td>\n",
              "      <td>0</td>\n",
              "      <td>1</td>\n",
              "      <td>1</td>\n",
              "      <td>1</td>\n",
              "      <td>0</td>\n",
              "      <td>0</td>\n",
              "      <td>1</td>\n",
              "      <td>0</td>\n",
              "      <td>1</td>\n",
              "      <td>0</td>\n",
              "    </tr>\n",
              "  </tbody>\n",
              "</table>\n",
              "</div>"
            ],
            "text/plain": [
              "                                              smiles  ...  Injury, poisoning and procedural complications\n",
              "0                                    C(CNCCNCCNCCN)N  ...                                               0\n",
              "1  CC(C)(C)C1=CC(=C(C=C1NC(=O)C2=CNC3=CC=CC=C3C2=...  ...                                               0\n",
              "2  CC[C@]12CC(=C)[C@H]3[C@H]([C@@H]1CC[C@]2(C#C)O...  ...                                               0\n",
              "3    CCC12CC(=C)C3C(C1CC[C@]2(C#C)O)CCC4=CC(=O)CCC34  ...                                               1\n",
              "4             C1C(C2=CC=CC=C2N(C3=CC=CC=C31)C(=O)N)O  ...                                               0\n",
              "\n",
              "[5 rows x 28 columns]"
            ]
          },
          "metadata": {
            "tags": []
          },
          "execution_count": 8
        }
      ]
    },
    {
      "cell_type": "code",
      "metadata": {
        "colab": {
          "base_uri": "https://localhost:8080/"
        },
        "id": "-rKQY6ta6CDG",
        "outputId": "c5a47e41-acaf-4844-becb-e4771f033272"
      },
      "source": [
        "sider.shape"
      ],
      "execution_count": null,
      "outputs": [
        {
          "output_type": "execute_result",
          "data": {
            "text/plain": [
              "(1427, 28)"
            ]
          },
          "metadata": {
            "tags": []
          },
          "execution_count": 9
        }
      ]
    },
    {
      "cell_type": "markdown",
      "metadata": {
        "id": "L_Q0DCpWdkgi"
      },
      "source": [
        "### `Dropping Unnecessary Columns`\n",
        "\n",
        "    As per the research,w.k.t  'Product Issues', 'Investigations', and   \n",
        "    'Social Circumstances' was not useful for predicting.."
      ]
    },
    {
      "cell_type": "code",
      "metadata": {
        "colab": {
          "base_uri": "https://localhost:8080/"
        },
        "id": "6o2Z7yxndl8X",
        "outputId": "ae0d6f82-eb77-4273-b3db-1b1802276b97"
      },
      "source": [
        "'Investigations' in sider.columns "
      ],
      "execution_count": null,
      "outputs": [
        {
          "output_type": "execute_result",
          "data": {
            "text/plain": [
              "True"
            ]
          },
          "metadata": {
            "tags": []
          },
          "execution_count": 10
        }
      ]
    },
    {
      "cell_type": "code",
      "metadata": {
        "colab": {
          "base_uri": "https://localhost:8080/"
        },
        "id": "naTC2fmXdu9T",
        "outputId": "9fe5f6ae-abfa-453f-c607-12ce55524cb5"
      },
      "source": [
        "'Product issues' in sider.columns"
      ],
      "execution_count": null,
      "outputs": [
        {
          "output_type": "execute_result",
          "data": {
            "text/plain": [
              "True"
            ]
          },
          "metadata": {
            "tags": []
          },
          "execution_count": 11
        }
      ]
    },
    {
      "cell_type": "code",
      "metadata": {
        "colab": {
          "base_uri": "https://localhost:8080/"
        },
        "id": "2rmwjWGJd5zr",
        "outputId": "17b305b5-7f28-4570-94ec-3f8c2051c81f"
      },
      "source": [
        "'Social circumstances' in sider.columns"
      ],
      "execution_count": null,
      "outputs": [
        {
          "output_type": "execute_result",
          "data": {
            "text/plain": [
              "True"
            ]
          },
          "metadata": {
            "tags": []
          },
          "execution_count": 12
        }
      ]
    },
    {
      "cell_type": "code",
      "metadata": {
        "id": "0nc3Zzdm1zXH"
      },
      "source": [
        "sider.drop(['Investigations','Product issues' ,'Social circumstances'],axis=1,inplace=True)"
      ],
      "execution_count": null,
      "outputs": []
    },
    {
      "cell_type": "markdown",
      "metadata": {
        "id": "fkzb2ybD8Y_f"
      },
      "source": [
        "**Reading offside_socs_modified data**"
      ]
    },
    {
      "cell_type": "code",
      "metadata": {
        "colab": {
          "base_uri": "https://localhost:8080/",
          "height": 326
        },
        "id": "JxkOgXN2zqAl",
        "outputId": "8e6d748a-a733-4b5e-c620-0a4b9bc68209"
      },
      "source": [
        "offside_socs_modified = pd.read_csv('offside_socs_modified.csv')\n",
        "\n",
        "offside_socs_modified.head()"
      ],
      "execution_count": null,
      "outputs": [
        {
          "output_type": "execute_result",
          "data": {
            "text/html": [
              "<div>\n",
              "<style scoped>\n",
              "    .dataframe tbody tr th:only-of-type {\n",
              "        vertical-align: middle;\n",
              "    }\n",
              "\n",
              "    .dataframe tbody tr th {\n",
              "        vertical-align: top;\n",
              "    }\n",
              "\n",
              "    .dataframe thead th {\n",
              "        text-align: right;\n",
              "    }\n",
              "</style>\n",
              "<table border=\"1\" class=\"dataframe\">\n",
              "  <thead>\n",
              "    <tr style=\"text-align: right;\">\n",
              "      <th></th>\n",
              "      <th>smiles</th>\n",
              "      <th>Hepatobiliary disorders</th>\n",
              "      <th>Metabolism and nutrition disorders</th>\n",
              "      <th>Eye disorders</th>\n",
              "      <th>Musculoskeletal and connective tissue disorders</th>\n",
              "      <th>Gastrointestinal disorders</th>\n",
              "      <th>Immune system disorders</th>\n",
              "      <th>Reproductive system and breast disorders</th>\n",
              "      <th>Neoplasms benign, malignant and unspecified (incl cysts and polyps)</th>\n",
              "      <th>General disorders and administration site conditions</th>\n",
              "      <th>Endocrine disorders</th>\n",
              "      <th>Surgical and medical procedures</th>\n",
              "      <th>Vascular disorders</th>\n",
              "      <th>Blood and lymphatic system disorders</th>\n",
              "      <th>Skin and subcutaneous tissue disorders</th>\n",
              "      <th>Congenital, familial and genetic disorders</th>\n",
              "      <th>Infections and infestations</th>\n",
              "      <th>Respiratory, thoracic and mediastinal disorders</th>\n",
              "      <th>Psychiatric disorders</th>\n",
              "      <th>Renal and urinary disorders</th>\n",
              "      <th>Pregnancy, puerperium and perinatal conditions</th>\n",
              "      <th>Ear and labyrinth disorders</th>\n",
              "      <th>Cardiac disorders</th>\n",
              "      <th>Nervous system disorders</th>\n",
              "      <th>Injury, poisoning and procedural complications</th>\n",
              "    </tr>\n",
              "  </thead>\n",
              "  <tbody>\n",
              "    <tr>\n",
              "      <th>0</th>\n",
              "      <td>CC12CCC3C(C1CCC2=O)CC=C4C3(CCC(C4)O)C</td>\n",
              "      <td>1</td>\n",
              "      <td>1</td>\n",
              "      <td>0</td>\n",
              "      <td>1</td>\n",
              "      <td>1</td>\n",
              "      <td>1</td>\n",
              "      <td>1</td>\n",
              "      <td>1</td>\n",
              "      <td>1</td>\n",
              "      <td>1</td>\n",
              "      <td>1</td>\n",
              "      <td>1</td>\n",
              "      <td>1</td>\n",
              "      <td>1</td>\n",
              "      <td>0</td>\n",
              "      <td>1</td>\n",
              "      <td>1</td>\n",
              "      <td>1</td>\n",
              "      <td>1</td>\n",
              "      <td>0</td>\n",
              "      <td>1</td>\n",
              "      <td>1</td>\n",
              "      <td>1</td>\n",
              "      <td>1</td>\n",
              "    </tr>\n",
              "    <tr>\n",
              "      <th>1</th>\n",
              "      <td>C[N+](C)(C)CC(CC(=O)O)O</td>\n",
              "      <td>1</td>\n",
              "      <td>1</td>\n",
              "      <td>1</td>\n",
              "      <td>1</td>\n",
              "      <td>1</td>\n",
              "      <td>1</td>\n",
              "      <td>1</td>\n",
              "      <td>1</td>\n",
              "      <td>1</td>\n",
              "      <td>1</td>\n",
              "      <td>1</td>\n",
              "      <td>1</td>\n",
              "      <td>1</td>\n",
              "      <td>1</td>\n",
              "      <td>1</td>\n",
              "      <td>1</td>\n",
              "      <td>1</td>\n",
              "      <td>1</td>\n",
              "      <td>1</td>\n",
              "      <td>1</td>\n",
              "      <td>0</td>\n",
              "      <td>1</td>\n",
              "      <td>1</td>\n",
              "      <td>1</td>\n",
              "    </tr>\n",
              "    <tr>\n",
              "      <th>2</th>\n",
              "      <td>C(CC(=O)O)CN</td>\n",
              "      <td>1</td>\n",
              "      <td>1</td>\n",
              "      <td>1</td>\n",
              "      <td>1</td>\n",
              "      <td>1</td>\n",
              "      <td>1</td>\n",
              "      <td>1</td>\n",
              "      <td>1</td>\n",
              "      <td>1</td>\n",
              "      <td>1</td>\n",
              "      <td>1</td>\n",
              "      <td>1</td>\n",
              "      <td>1</td>\n",
              "      <td>1</td>\n",
              "      <td>1</td>\n",
              "      <td>1</td>\n",
              "      <td>1</td>\n",
              "      <td>1</td>\n",
              "      <td>1</td>\n",
              "      <td>1</td>\n",
              "      <td>1</td>\n",
              "      <td>1</td>\n",
              "      <td>1</td>\n",
              "      <td>1</td>\n",
              "    </tr>\n",
              "    <tr>\n",
              "      <th>3</th>\n",
              "      <td>C1C(N(C2=C(N1)NC(=NC2=O)N)C=O)CNC3=CC=C(C=C3)C...</td>\n",
              "      <td>1</td>\n",
              "      <td>1</td>\n",
              "      <td>1</td>\n",
              "      <td>1</td>\n",
              "      <td>1</td>\n",
              "      <td>1</td>\n",
              "      <td>1</td>\n",
              "      <td>1</td>\n",
              "      <td>1</td>\n",
              "      <td>1</td>\n",
              "      <td>1</td>\n",
              "      <td>1</td>\n",
              "      <td>1</td>\n",
              "      <td>1</td>\n",
              "      <td>1</td>\n",
              "      <td>1</td>\n",
              "      <td>1</td>\n",
              "      <td>1</td>\n",
              "      <td>1</td>\n",
              "      <td>1</td>\n",
              "      <td>1</td>\n",
              "      <td>1</td>\n",
              "      <td>1</td>\n",
              "      <td>1</td>\n",
              "    </tr>\n",
              "    <tr>\n",
              "      <th>4</th>\n",
              "      <td>CCCCCC(C=CC1C(CC(=O)C1CC=CCCCC(=O)O)O)O</td>\n",
              "      <td>1</td>\n",
              "      <td>0</td>\n",
              "      <td>0</td>\n",
              "      <td>1</td>\n",
              "      <td>1</td>\n",
              "      <td>1</td>\n",
              "      <td>0</td>\n",
              "      <td>0</td>\n",
              "      <td>1</td>\n",
              "      <td>0</td>\n",
              "      <td>1</td>\n",
              "      <td>1</td>\n",
              "      <td>0</td>\n",
              "      <td>0</td>\n",
              "      <td>1</td>\n",
              "      <td>1</td>\n",
              "      <td>0</td>\n",
              "      <td>1</td>\n",
              "      <td>1</td>\n",
              "      <td>1</td>\n",
              "      <td>0</td>\n",
              "      <td>1</td>\n",
              "      <td>1</td>\n",
              "      <td>1</td>\n",
              "    </tr>\n",
              "  </tbody>\n",
              "</table>\n",
              "</div>"
            ],
            "text/plain": [
              "                                              smiles  ...  Injury, poisoning and procedural complications\n",
              "0              CC12CCC3C(C1CCC2=O)CC=C4C3(CCC(C4)O)C  ...                                               1\n",
              "1                            C[N+](C)(C)CC(CC(=O)O)O  ...                                               1\n",
              "2                                       C(CC(=O)O)CN  ...                                               1\n",
              "3  C1C(N(C2=C(N1)NC(=NC2=O)N)C=O)CNC3=CC=C(C=C3)C...  ...                                               1\n",
              "4            CCCCCC(C=CC1C(CC(=O)C1CC=CCCCC(=O)O)O)O  ...                                               1\n",
              "\n",
              "[5 rows x 25 columns]"
            ]
          },
          "metadata": {
            "tags": []
          },
          "execution_count": 14
        }
      ]
    },
    {
      "cell_type": "code",
      "metadata": {
        "colab": {
          "base_uri": "https://localhost:8080/"
        },
        "id": "t72Nm1cR6EUu",
        "outputId": "e05d4c2f-6e44-47d9-edd1-054b7e974b3a"
      },
      "source": [
        "offside_socs_modified.shape"
      ],
      "execution_count": null,
      "outputs": [
        {
          "output_type": "execute_result",
          "data": {
            "text/plain": [
              "(1332, 25)"
            ]
          },
          "metadata": {
            "tags": []
          },
          "execution_count": 15
        }
      ]
    },
    {
      "cell_type": "markdown",
      "metadata": {
        "id": "rNBGQSCw8s3R"
      },
      "source": [
        "**Checking for the common smile used in offside_socs_modified and sider**\n"
      ]
    },
    {
      "cell_type": "code",
      "metadata": {
        "colab": {
          "base_uri": "https://localhost:8080/"
        },
        "id": "ZxM6Y9MX1R37",
        "outputId": "e6aaa669-e47c-493c-e6d8-f97ee90a9507"
      },
      "source": [
        "df3 = pd.merge(offside_socs_modified, sider, on='smiles',how='outer', indicator='Exist')\n",
        "df3 = df3.loc[df3['Exist'] =='both']\n",
        "\n",
        "print('Number of Common smile in both data farmes ',df3.shape)"
      ],
      "execution_count": null,
      "outputs": [
        {
          "output_type": "stream",
          "text": [
            "Number of Common smile in both data farmes  (716, 50)\n"
          ],
          "name": "stdout"
        }
      ]
    },
    {
      "cell_type": "markdown",
      "metadata": {
        "id": "OVXBchHRjB8z"
      },
      "source": [
        "### Concatenating the Dataframes"
      ]
    },
    {
      "cell_type": "code",
      "metadata": {
        "id": "N6evZUjl5CkT"
      },
      "source": [
        "dfs = [offside_socs_modified, sider]\n",
        "sider = pd.concat(dfs)"
      ],
      "execution_count": null,
      "outputs": []
    },
    {
      "cell_type": "code",
      "metadata": {
        "colab": {
          "base_uri": "https://localhost:8080/"
        },
        "id": "aU9BtkNl6UWt",
        "outputId": "6a73e5f5-d67c-47c3-e373-d8a6a318f0c0"
      },
      "source": [
        "print('Number of Columns in merged sider', sider.shape[0])"
      ],
      "execution_count": null,
      "outputs": [
        {
          "output_type": "stream",
          "text": [
            "Number of Columns in merged sider 2759\n"
          ],
          "name": "stdout"
        }
      ]
    },
    {
      "cell_type": "markdown",
      "metadata": {
        "id": "dDLmm7TwjO5G"
      },
      "source": [
        "# Molecular Descriptors "
      ]
    },
    {
      "cell_type": "markdown",
      "metadata": {
        "id": "o9Wv6uAhA5XK"
      },
      "source": [
        "**Smiles to Molecules...**\n",
        "\n"
      ]
    },
    {
      "cell_type": "code",
      "metadata": {
        "id": "mT4P1rX1WDaq",
        "colab": {
          "base_uri": "https://localhost:8080/",
          "height": 217
        },
        "outputId": "39150d3d-73cf-47a2-ce0d-1a2022d1d23b"
      },
      "source": [
        "mol_list = []\n",
        "\n",
        "for smile in sider.iloc[:5,0]:\n",
        "  mol = Chem.MolFromSmiles(smile)            # Converting to Molecules images from smiles\n",
        "  mol_list.append(mol)\n",
        "\n",
        "img = Draw.MolsToGridImage(mol_list, molsPerRow=5)\n",
        "img"
      ],
      "execution_count": null,
      "outputs": [
        {
          "output_type": "execute_result",
          "data": {
            "image/png": "[encoded data removed]",
            "text/plain": [
              "<PIL.PngImagePlugin.PngImageFile image mode=RGB size=1000x200 at 0x7F75809FC0F0>"
            ]
          },
          "metadata": {
            "tags": []
          },
          "execution_count": 19
        }
      ]
    },
    {
      "cell_type": "markdown",
      "metadata": {
        "id": "ripR6z_kawD5"
      },
      "source": [
        "### `Molecular Weights`\n",
        "    \n",
        "    Getting Molecular Weights from smiles"
      ]
    },
    {
      "cell_type": "code",
      "metadata": {
        "id": "XGZbMGYNXjUD",
        "colab": {
          "base_uri": "https://localhost:8080/"
        },
        "outputId": "2068527d-4f9b-40f5-83e6-8d908e2b08b2"
      },
      "source": [
        "mol_weights = []\n",
        "mol_str=[]\n",
        "\n",
        "for smile in sider.iloc[:,0]:\n",
        "  mol = Chem.MolFromSmiles(smile)\n",
        "  mol_str.append(mol)\n",
        "  mol_weights.append(Descriptors.MolWt(mol))\n"
      ],
      "execution_count": null,
      "outputs": [
        {
          "output_type": "stream",
          "text": [
            "RDKit WARNING: [14:00:37] WARNING: not removing hydrogen atom without neighbors\n",
            "RDKit WARNING: [14:00:37] WARNING: not removing hydrogen atom without neighbors\n",
            "RDKit WARNING: [14:00:37] WARNING: not removing hydrogen atom without neighbors\n",
            "RDKit WARNING: [14:00:37] WARNING: not removing hydrogen atom without neighbors\n",
            "RDKit WARNING: [14:00:37] WARNING: not removing hydrogen atom without neighbors\n",
            "RDKit WARNING: [14:00:37] WARNING: not removing hydrogen atom without neighbors\n",
            "RDKit WARNING: [14:00:37] WARNING: not removing hydrogen atom without neighbors\n",
            "RDKit WARNING: [14:00:37] WARNING: not removing hydrogen atom without neighbors\n",
            "RDKit WARNING: [14:00:37] WARNING: not removing hydrogen atom without neighbors\n",
            "RDKit WARNING: [14:00:37] WARNING: not removing hydrogen atom without neighbors\n",
            "RDKit WARNING: [14:00:37] WARNING: not removing hydrogen atom without neighbors\n",
            "RDKit WARNING: [14:00:37] WARNING: not removing hydrogen atom without neighbors\n",
            "RDKit WARNING: [14:00:37] WARNING: not removing hydrogen atom without neighbors\n"
          ],
          "name": "stderr"
        }
      ]
    },
    {
      "cell_type": "code",
      "metadata": {
        "colab": {
          "base_uri": "https://localhost:8080/"
        },
        "id": "p3LpfwQ2sB5J",
        "outputId": "03c10d5a-20d3-462e-9222-e0a16fc80559"
      },
      "source": [
        "print(mol_weights)"
      ],
      "execution_count": null,
      "outputs": [
        {
          "output_type": "stream",
          "text": [
            "[288.431, 162.209, 103.12100000000001, 473.44600000000025, 352.47100000000006, 352.471, 267.245, 180.156, 354.487, 176.124, 507.18200000000013, 244.316, 40.078, 323.13200000000006, 386.66400000000016, 35.453, 138.12199999999999, 133.103, 239.74599999999998, 272.388, 182.172, 131.17499999999998, 163.198, 243.21900000000002, 142.201, 196.155, 153.181, 46.069, 785.5570000000001, 146.146, 179.172, 307.32800000000003, 92.09399999999998, 62.02400000000001, 1134.934000000001, 253.808, 39.098, 484.50300000000016, 197.19, 183.207, 776.872, 650.9760000000001, 146.19, 24.305, 232.283, 22.99, 744.4170000000003, 122.12699999999998, 122.10299999999997, 162.23600000000002, 62.004000000000005, 44.013, 169.18, 17.007, 31.998, 96.98599999999999, 74.079, 123.115, 167.16399999999996, 247.14299999999994, 169.17999999999998, 324.4240000000001, 62.137, 286.45900000000006, 179.19699999999997, 96.06299999999999, 125.14899999999999, 241.25100000000003, 265.36199999999997, 242.231, 863.3649999999994, 60.05599999999999, 149.23699999999997, 230.26299999999998, 285.691, 193.24599999999995, 544.5330000000004, 252.273, 244.207, 474.55000000000035, 286.33900000000006, 924.091000000001, 336.4320000000001, 415.8290000000003, 151.165, 222.251, 193.20199999999997, 1255.4379999999985, 225.208, 265.338, 239.315, 249.09599999999998, 400.64700000000016, 389.45600000000013, 136.114, 294.35800000000006, 430.71700000000027, 472.7540000000004, 308.772, 151.253, 378.108, 613.9150000000001, 214.22699999999998, 585.6080000000003, 180.167, 646.3270000000002, 369.48700000000014, 277.411, 408.88200000000035, 313.788, 365.4110000000001, 199.16199999999998, 348.4040000000001, 505.63700000000034, 256.092, 293.374, 240.374, 267.328, 552.6260000000002, 508.6450000000002, 371.5530000000001, 180.15899999999996, 266.34099999999995, 558.6500000000002, 349.8180000000002, 277.26900000000006, 188.22299999999996, 381.90700000000015, 748.9960000000002, 370.8470000000001, 435.4400000000002, 278.373, 1422.72, 213.66399999999996, 521.0500000000003, 408.9220000000001, 424.49700000000024, 421.4220000000001, 351.368, 505.5710000000002, 424.0879999999999, 307.437, 334.39700000000005, 366.5490000000002, 398.49900000000014, 136.19799999999995, 472.44600000000014, 307.434, 161.22499999999997, 430.3790000000001, 311.469, 361.3970000000001, 325.449, 292.14, 316.158, 654.6060000000002, 344.253, 393.6970000000001, 223.31900000000002, 430.5410000000002, 307.39000000000004, 364.42300000000006, 288.43500000000006, 467.65000000000026, 385.5120000000001, 246.30599999999998, 224.25999999999996, 327.46799999999996, 451.61500000000024, 194.194, 454.6110000000003, 412.61400000000015, 416.6460000000002, 398.41900000000015, 610.6709999999999, 440.46300000000014, 305.41800000000006, 217.28999999999996, 236.27399999999997, 226.232, 260.334, 214.05199999999996, 292.37899999999996, 406.482, 367.8140000000001, 363.3950000000001, 453.51100000000025, 480.57200000000023, 470.5380000000003, 454.46600000000024, 525.6420000000004, 426.4520000000001, 516.5450000000003, 557.6070000000001, 389.4330000000001, 546.5870000000002, 552.5760000000002, 423.38300000000027, 381.3790000000001, 379.50100000000015, 347.39600000000013, 453.45800000000014, 459.55800000000016, 388.8950000000001, 305.3740000000001, 199.31899999999996, 165.40300000000002, 304.217, 299.761, 505.4580000000001, 319.88, 295.729, 274.795, 318.87300000000005, 276.745, 315.869, 338.77200000000005, 169.56699999999998, 384.6480000000002, 262.356, 207.27299999999994, 417.5060000000003, 492.5280000000003, 369.4690000000001, 252.347, 368.52400000000006, 289.158, 331.34700000000004, 265.98400000000004, 465.95300000000026, 265.98400000000004, 324.399, 343.8980000000002, 277.195, 424.9910000000001, 300.745, 466.9770000000002, 405.9690000000001, 314.86, 315.716, 230.09799999999998, 321.829, 314.72800000000007, 318.829, 344.845, 434.8810000000002, 349.217, 326.831, 1329.369999999999, 303.35800000000006, 299.37, 1355.387999999999, 399.44300000000015, 402.48700000000025, 466.3540000000002, 203.28499999999997, 1356.3959999999993, 275.39500000000004, 291.3910000000001, 261.08899999999994, 1202.6349999999982, 287.4060000000001, 416.9450000000002, 337.4630000000001, 240.21399999999997, 313.2490000000001, 248.307, 527.5260000000003, 560.6930000000007, 314.469, 266.388, 270.719, 376.46800000000013, 372.50500000000017, 392.4670000000001, 135.20999999999995, 271.40400000000005, 284.74600000000004, 304.35200000000003, 295.145, 469.3260000000002, 309.4940000000001, 236.231, 268.356, 309.45300000000003, 478.5760000000002, 250.19999999999996, 508.5580000000003, 764.9500000000003, 780.9490000000003, 301.3860000000001, 583.689, 604.6970000000003, 415.5350000000002, 255.40499999999992, 255.36100000000002, 281.399, 504.6360000000005, 310.3550000000001, 339.4830000000002, 416.52200000000005, 296.5520000000001, 144.214, 807.8900000000004, 324.38000000000005, 425.92000000000024, 379.50000000000006, 324.44900000000007, 295.451, 451.4830000000002, 279.383, 246.194, 444.4400000000001, 270.376, 379.43500000000006, 213.189, 254.24599999999998, 469.6690000000001, 381.68999999999994, 761.8500000000003, 315.67799999999994, 376.45300000000026, 319.40700000000004, 259.3929999999999, 249.317, 380.53200000000004, 396.65900000000016, 733.9370000000002, 862.064, 294.745, 396.5710000000002, 356.50600000000003, 520.3900000000003, 204.314, 296.40999999999997, 141.17, 360.77200000000005, 206.027, 181.23499999999999, 342.8550000000001, 287.3589999999999, 588.5620000000005, 321.33700000000016, 337.4560000000001, 238.24299999999994, 212.24799999999996, 384.2590000000001, 360.837, 303.358, 260.337, 336.479, 501.6670000000001, 372.5530000000001, 391.4670000000002, 415.35400000000004, 453.8790000000002, 306.276, 129.094, 285.23499999999996, 365.214, 422.49300000000017, 437.5310000000002, 303.29300000000006, 434.5040000000002, 313.288, 452.4940000000002, 494.53100000000023, 376.4680000000001, 130.07799999999997, 309.33099999999996, 591.7840000000004, 387.886, 244.265, 330.3550000000001, 276.21399999999994, 500.5790000000002, 411.473, 318.339, 441.40400000000017, 344.411, 122.97999999999999, 138.059, 562.664, 330.749, 398.5540000000002, 516.7190000000004, 171.23999999999998, 321.377, 287.359, 255.23399999999998, 263.2, 250.33799999999994, 477.60300000000024, 323.4180000000002, 490.62600000000026, 445.54500000000024, 494.01300000000026, 318.43699999999995, 822.9419999999996, 312.41700000000003, 198.21799999999996, 246.09699999999998, 375.87100000000004, 369.41700000000014, 339.61200000000014, 360.47400000000005, 160.18, 297.745, 362.46600000000007, 404.5030000000002, 432.55700000000024, 462.53900000000027, 285.3430000000001, 335.8790000000001, 76.05499999999999, 374.91200000000003, 289.375, 230.31099999999998, 206.28499999999997, 136.19799999999998, 234.343, 434.5040000000002, 497.5000000000002, 325.45199999999994, 261.08899999999994, 405.45100000000025, 299.35200000000003, 280.415, 187.20199999999997, 287.18899999999996, 365.84200000000004, 613.803, 357.7930000000002, 1550.1880000000006, 821.1410000000001, 777.0880000000001, 791.1149999999999, 807.1140000000001, 332.464, 428.5400000000001, 586.6890000000001, 256.096, 569.6090000000002, 184.49099999999999, 137.14199999999997, 236.13599999999997, 371.39300000000014, 358.4380000000001, 705.6470000000003, 628.814, 237.73000000000002, 531.4400000000003, 254.285, 255.273, 309.4340000000001, 328.41200000000003, 342.297, 431.55800000000016, 229.261, 256.096, 369.36800000000005, 432.60100000000017, 270.21, 285.31, 1209.4210000000005, 291.391, 420.52800000000025, 328.48100000000005, 380.5250000000001, 337.35100000000017, 405.49500000000006, 418.9680000000002, 233.69899999999998, 478.0560000000001, 382.8910000000001, 321.163, 422.9200000000001, 404.54700000000025, 327.81500000000005, 246.30599999999993, 536.8880000000004, 323.4400000000001, 610.7110000000001, 277.41100000000006, 418.6180000000002, 174.203, 295.298, 429.55700000000024, 390.9580000000001, 386.5320000000002, 241.29, 378.316, 384.5160000000002, 351.4090000000001, 305.2049999999999, 179.307, 444.6590000000003, 247.338, 246.35399999999993, 372.4610000000001, 218.25299999999996, 322.47700000000003, 153.137, 360.41500000000013, 211.261, 344.49500000000006, 129.167, 309.45300000000003, 241.24299999999994, 454.44700000000023, 211.21699999999998, 339.4390000000001, 233.31100000000004, 374.47700000000015, 302.45799999999997, 794.9760000000002, 299.802, 365.8420000000001, 267.36899999999997, 171.15599999999998, 179.26299999999995, 264.372, 416.135, 325.774, 254.28599999999997, 429.60400000000016, 211.22400000000002, 457.4830000000002, 209.25300000000001, 265.35999999999996, 320.04599999999994, 444.4880000000002, 259.21799999999996, 268.744, 273.35699999999997, 242.23499999999996, 521.4370000000001, 586.1970000000003, 496.47400000000016, 285.343, 401.43800000000016, 500.62900000000053, 433.5010000000003, 320.341, 228.291, 309.40600000000006, 347.3780000000001, 383.53200000000004, 392.499, 357.45000000000005, 327.37999999999994, 341.407, 428.65700000000027, 335.47300000000024, 279.3429999999999, 317.4290000000001, 470.0170000000003, 253.345, 567.7960000000004, 223.29599999999996, 266.30400000000003, 480.54100000000017, 484.3940000000002, 346.3390000000001, 385.37600000000015, 308.315, 418.44600000000025, 388.42000000000013, 281.271, 360.36600000000016, 238.159, 227.08499999999995, 331.4670000000001, 298.42600000000004, 319.336, 312.45300000000003, 263.38399999999996, 452.5950000000003, 926.107000000001, 361.3730000000001, 312.44200000000006, 345.42400000000004, 293.37, 495.7450000000004, 269.388, 312.4100000000001, 400.4360000000002, 397.288, 293.32199999999995, 426.56400000000014, 286.718, 467.6540000000002, 357.494, 315.369, 260.381, 301.342, 460.43900000000014, 853.9180000000003, 235.069, 572.8750000000002, 554.7320000000004, 205.25399999999996, 383.3760000000001, 329.37100000000004, 149.215, 349.3880000000001, 340.42699999999996, 285.431, 226.27599999999998, 268.273, 278.31200000000007, 314.49800000000005, 365.50200000000007, 403.9790000000002, 179.21899999999997, 213.244, 363.4150000000001, 240.35000000000002, 232.239, 318.32800000000003, 149.23699999999997, 167.208, 241.682, 450.70700000000033, 208.26100000000002, 272.392, 334.3790000000001, 248.32600000000002, 356.44700000000006, 375.488, 516.5560000000003, 300.29599999999994, 142.158, 627.643, 240.303, 351.4100000000001, 362.40700000000004, 298.346, 331.35300000000007, 306.49000000000007, 1203.499, 358.4780000000001, 74.551, 166.002, 211.33399999999997, 481.51200000000017, 255.27299999999997, 424.5340000000002, 324.81100000000004, 383.4080000000001, 360.45000000000005, 402.48700000000014, 440.4290000000002, 358.434, 218.256, 285.365, 221.304, 290.36300000000006, 373.9530000000001, 287.44699999999995, 314.4690000000001, 284.42800000000005, 284.428, 341.451, 340.49200000000013, 367.4890000000002, 178.27499999999998, 259.349, 181.21499999999997, 248.717, 386.80100000000004, 383.5170000000001, 438.5240000000003, 359.4510000000002, 165.236, 473.59400000000016, 416.5180000000003, 314.41100000000006, 914.1870000000001, 370.79200000000003, 244.20699999999994, 475.3360000000001, 234.20199999999997, 410.49300000000017, 720.9620000000002, 250.34199999999998, 269.352, 314.36199999999997, 260.381, 348.4430000000002, 837.0580000000001, 415.57400000000007, 224.216, 429.5130000000002, 258.229, 303.35799999999995, 187.28599999999994, 862.7460000000004, 306.236, 200.05299999999997, 279.8550000000001, 474.5870000000004, 482.4410000000002, 360.16700000000003, 250.283, 170.172, 58.443, 149.894, 437.45100000000014, 283.11299999999994, 450.5310000000003, 272.37, 416.5830000000003, 493.61500000000024, 581.5800000000003, 264.3249999999999, 290.404, 233.24499999999995, 172.20899999999997, 356.41800000000006, 341.4330000000001, 354.47200000000015, 295.408, 804.0310000000002, 371.52400000000006, 383.4960000000001, 375.40000000000015, 351.4710000000002, 783.008, 200.16899999999998, 300.745, 476.6200000000003, 194.15399999999997, 337.382, 330.55600000000004, 387.44000000000017, 291.438, 225.288, 532.4720000000002, 288.43100000000004, 400.6030000000003, 444.4400000000001, 258.233, 370.5870000000001, 189.22399999999996, 443.6380000000002, 375.559, 328.43400000000014, 260.31399999999996, 355.84700000000004, 312.453, 384.4350000000001, 263.793, 316.4270000000001, 387.71900000000016, 440.6060000000004, 253.718, 467.52000000000027, 535.8130000000006, 382.46000000000015, 270.354, 325.496, 339.36600000000004, 421.45300000000015, 405.96900000000005, 404.348, 263.381, 215.29999999999998, 430.54500000000036, 157.21300000000002, 327.33600000000007, 133.19399999999996, 371.87200000000007, 192.30599999999993, 300.44200000000006, 394.4390000000001, 253.26899999999995, 343.217, 380.6619999999999, 407.5050000000001, 301.47399999999993, 387.47600000000006, 388.46400000000017, 290.32300000000004, 294.44199999999995, 278.39899999999994, 441.54900000000015, 284.359, 284.35900000000004, 392.519, 294.351, 227.735, 456.5720000000001, 387.48400000000015, 392.58000000000015, 324.34100000000007, 435.5280000000002, 1449.2710000000004, 277.40799999999996, 129.159, 778.9470000000002, 267.27799999999996, 244.38199999999995, 575.6870000000001, 211.22099999999998, 305.34100000000007, 298.363, 332.3130000000001, 267.245, 287.363, 307.39700000000005, 212.22999999999996, 388.81500000000005, 331.86800000000005, 334.33200000000005, 1007.2069999999992, 340.46300000000014, 416.51400000000024, 306.446, 824.9720000000002, 412.6140000000003, 317.4290000000001, 158.166, 258.069, 188.01699999999997, 434.5040000000002, 316.13500000000005, 308.333, 266.38800000000003, 242.23, 603.7500000000003, 189.307, 592.6930000000003, 214.412, 84.006, 414.4830000000002, 353.33000000000004, 128.17399999999995, 448.1550000000001, 430.59600000000006, 363.50500000000017, 420.4340000000002, 280.323, 339.47900000000016, 100.08600000000001, 104.10499999999999, 486.6490000000004, 344.4950000000001, 469.9730000000002, 73.89, 422.58400000000023, 400.9750000000002, 416.51400000000024, 309.413, 146.142, 326.60900000000004, 498.43200000000013, 335.19000000000005, 810.9890000000001, 306.39300000000003, 260.891, 241.364, 274.367, 452.59800000000007, 275.21999999999997, 285.416, 58.319, 40.304, 81.389, 197.841, 263.356, 221.25599999999997, 229.63099999999997, 461.55600000000015, 476.5850000000002, 332.31100000000004, 228.20799999999997, 434.52700000000016, 321.8520000000001, 440.4110000000002, 342.47900000000016, 266.34099999999995, 504.5950000000003, 292.426, 436.5740000000002, 55.845, 51.996, 157.25, 196.967, 65.39, 111.02699999999999, 151.908, 233.391, 219.074, 236.53599999999997, 608.8630000000003, 180.156, 776.6510000000006, 162.38099999999997, 463.3700000000001, 763.2870000000003, 288.77800000000013, 244.89100000000002, 364.4670000000001, 445.6100000000004, 354.81500000000005, 441.5240000000002, 191.13899999999998, 468.3700000000002, 1069.2379999999994, 348.42000000000013, 37.955, 547.7170000000003, 273.37600000000003, 268.27299999999997, 186.236, 245.952, 94.06999999999998, 98.142, 380.4560000000001, 287.359, 284.38100000000003, 504.97000000000014, 410.91300000000007, 252.273, 517.6720000000003, 244.294, 301.38599999999997, 373.26599999999996, 268.3569999999999, 361.82500000000005, 557.8400000000004, 511.52100000000024, 753.9410000000001, 310.48100000000005, 324.46400000000006, 326.4360000000001, 386.5610000000001, 645.6080000000004, 348.42800000000005, 168.03599999999997, 293.41400000000004, 1464.0980000000006, 315.3770000000001, 929.1609999999998, 1243.501, 510.4810000000003, 211.17699999999994, 1269.4330000000004, 484.9670000000002, 363.46100000000007, 416.5260000000002, 207.226, 219.28099999999998, 530.1240000000003, 304.32500000000005, 1019.2610000000002, 418.5740000000003, 427.4640000000001, 747.9640000000002, 390.5200000000001, 466.9580000000002, 255.361, 938.005, 362.27799999999996, 603.7560000000002, 427.54500000000013, 240.31, 315.48199999999997, 170.212, 408.5200000000001, 412.5290000000003, 441.6130000000003, 368.47400000000016, 296.40999999999997, 236.29599999999996, 567.0600000000005, 200.285, 279.18899999999996, 529.7860000000004, 383.47000000000014, 558.6900000000002, 591.6760000000004, 670.8550000000001, 448.3940000000001, 376.45300000000015, 392.52200000000005, 297.423, 427.4170000000002, 319.23100000000005, 412.94600000000014, 337.41900000000004, 501.47700000000026, 247.25099999999998, 424.52200000000016, 359.35400000000004, 158.526, 107.109, 179.468, 281.832, 323.46500000000003, 444.5150000000001, 606.8910000000003, 608.8630000000004, 354.3670000000001, 876.5130000000001, 287.21599999999995, 602.6750000000001, 358.2690000000001, 380.506, 246.354, 313.39699999999993, 611.7390000000001, 582.6570000000002, 318.304, 514.6290000000002, 180.25099999999998, 455.5510000000004, 272.09, 383.5170000000002, 436.96100000000024, 240.23299999999998, 143.23, 181.213, 274.408, 405.4410000000001, 441.5750000000001, 350.40000000000015, 482.1690000000002, 1092.2330000000006, 518.6220000000003, 349.31600000000003, 327.721, 354.18899999999996, 202.23700000000002, 426.56000000000034, 395.3810000000001, 303.175, 449.54900000000026, 1415.5760000000005, 389.3870000000001, 420.51300000000015, 376.6710000000001, 366.8440000000001, 243.31, 382.52900000000005, 391.4750000000001, 357.435, 444.59700000000015, 348.4860000000002, 176.18099999999998, 136.11399999999998, 376.40900000000016, 342.29699999999997, 498.5760000000004, 400.4710000000002, 376.136, 564.1510000000003, 527.6430000000001, 384.2450000000001, 297.2710000000001, 606.7820000000008, 312.25700000000006, 423.4220000000002, 463.79599999999994, 551.6250000000002, 220.26799999999997, 78.96, 288.602, 713.3550000000001, 434.4700000000002, 822.9860000000003, 488.61400000000043, 389.4110000000001, 411.32900000000006, 95.01, 796.6380000000004, 532.6190000000004, 426.4920000000002, 329.23, 426.5860000000001, 303.6809999999999, 421.9000000000001, 314.3660000000001, 315.41300000000007, 171.243, 578.5260000000004, 335.4730000000002, 469.56000000000034, 831.9789999999996, 358.85, 446.91000000000037, 454.4360000000002, 527.1050000000004, 179.172, 310.828, 263.3809999999999, 909.954, 666.9220000000004, 159.22899999999998, 558.5950000000004, 585.6160000000002, 407.90100000000007, 294.303, 144.17699999999996, 179.24099999999999, 684.7950000000001, 30.006, 662.9110000000003, 700.7910000000003, 704.8690000000001, 296.41400000000004, 662.6560000000002, 414.4980000000003, 409.4320000000001, 475.5230000000002, 1093.3310000000006, 254.28899999999996, 54.092000000000006, 534.4320000000002, 527.6580000000004, 418.30500000000006, 528.5370000000001, 277.284, 362.473, 357.4189999999999, 446.50100000000026, 816.9430000000001, 390.4670000000001, 446.5110000000002, 186.082, 618.2630000000005, 496.50600000000026, 676.8910000000003, 456.2880000000002, 399.52700000000004, 648.1990000000004, 1580.9340000000022, 1508.2730000000017, 714.1960000000003, 862.7460000000005, 547.0730000000003, 308.293, 426.4330000000002, 1140.2540000000001, 184.21599999999998, 548.6140000000004, 136.322, 211.26799999999997, 544.7180000000002, 220.46299999999997, 818.5020000000002, 849.4400000000002, 515.6170000000003, 475.85099999999994, 393.4430000000002, 588.6659999999999, 578.4200000000001, 568.8860000000002, 1061.8529999999996, 435.28500000000014, 327.289, 378.4280000000001, 659.641, 259.349, 581.0690000000003, 620.8740000000003, 547.6740000000003, 386.25500000000005, 464.83100000000013, 812.374, 259.265, 250.298, 360.4500000000001, 543.6060000000002, 1098.3630000000003, 285.416, 248.336, 364.952, 299.37000000000006, 277.26900000000006, 360.16700000000003, 308.421, 317.4290000000001, 661.7670000000004, 540.6970000000002, 481.54600000000016, 496.19900000000007, 402.55600000000027, 924.091000000001, 444.56800000000027, 1270.2910000000004, 513.6770000000002, 597.6630000000001, 252.22199999999995, 529.5260000000002, 626.6210000000003, 490.8970000000002, 981.2039999999997, 634.7570000000004, 170.237, 152.18200000000002, 114.173, 167.197, 154.198, 242.344, 812.0179999999997, 46.005, 281.399, 342.4020000000001, 464.9130000000001, 1181.3670000000002, 839.842, 612.8510000000003, 488.01700000000034, 732.1190000000005, 569.619, 916.1529999999995, 623.6570000000005, 273.98199999999997, 1091.283, 127.99499999999999, 533.7160000000006, 149.62099999999998, 582.7010000000004, 926.107000000001, 348.39900000000006, 382.54100000000017, 407.3180000000001, 102.08899999999998, 483.5620000000001, 412.65800000000013, 1347.3849999999993, 514.5890000000004, 305.2900000000001, 273.244, 303.406, 515.6000000000003, 182.18699999999998, 416.6460000000002, 608.5490000000007, 585.6580000000004, 898.053, 371.827, 330.51200000000017, 500.55400000000014, 1025.8860000000002, 570.4920000000003, 567.6460000000003, 421.4680000000001, 436.6110000000003, 415.5740000000001, 1077.3320000000006, 114.963, 1155.4550000000002, 814.9479999999995, 360.4940000000001, 474.0690000000001, 495.54200000000014, 398.48200000000014, 398.40000000000015, 897.7680000000007, 847.0190000000003, 357.3220000000001, 718.807, 301.39400000000006, 822.9530000000004, 30.974, 302.242, 167.197, 152.182, 171.91699999999997, 519.4480000000002, 301.39400000000006, 300.29600000000005, 424.54100000000017, 373.3680000000001, 551.7690000000002, 600.6210000000005, 1140.152000000001, 1195.2720000000008, 502.9950000000003, 1013.4899999999999, 365.11699999999996, 221.12899999999996, 541.8970000000003, 230.399, 1571.9200000000021, 395.42200000000014, 355.4590000000001, 561.1030000000003, 435.8890000000001, 238.46399999999997, 1736.184999999999, 602.6630000000002, 785.8909999999998, 1344.404999999999, 620.7350000000001, 725.9650000000003, 958.24, 506.70900000000023, 639.1350000000003, 810.4660000000001, 826.6570000000003, 386.48, 315.4170000000001, 532.5690000000003, 1083.2100000000005, 1155.4550000000002, 513.493, 1058.1559999999997, 678.4910000000003, 517.7760000000004, 244.272, 665.9150000000003, 506.5910000000003, 657.0420000000005, 459.5060000000003, 254.271, 1030.3029999999999, 882.7710000000001, 1270.2910000000004, 1648.032, 1389.4219999999991, 958.24, 1353.371000000002, 757.9510000000004, 393.4430000000002, 2140.492000000001, 1349.5059999999999, 1349.7759999999998, 2841.1059999999957, 189.307, 392.4990000000002, 310.48100000000005, 324.46400000000006, 254.289, 6062.996999999995, 410.91300000000007, 627.7460000000002, 1143.2900000000004, 1084.2529999999992, 547.6740000000003, 492.6890000000003, 522.5780000000002, 263.793, 239.836, 513.6770000000002, 162.209, 358.2690000000001, 728.7120000000002, 103.12100000000001, 428.90300000000013, 240.31, 608.8630000000003, 238.29000000000002, 131.13099999999997, 473.44600000000025, 620.8740000000003, 459.46300000000025, 476.5850000000002, 4491.944999999984, 352.47100000000006, 352.471, 354.487, 240.208, 59.044000000000004, 146.21, 267.245, 315.48199999999997, 196.58599999999998, 180.156, 354.487, 17.031, 348.4860000000002, 243.30599999999998, 174.20399999999998, 108.13999999999997, 117.14799999999998, 7059.99999999999, 488.61400000000043, 389.4110000000001, 127.91199999999999, 40.078, 662.9110000000003, 16.043, 323.13200000000006, 408.5790000000002, 174.63099999999997, 104.17299999999999, 192.12300000000002, 35.453, 459.5060000000003, 313.39699999999993, 437.779, 611.7390000000001, 138.12199999999999, 228.21500000000003, 326.4360000000001, 102.093, 270.76, 444.98100000000005, 239.74599999999998, 272.388, 182.172, 700.7910000000003, 623.6780000000002, 332.31100000000004, 166.24899999999997, 228.20799999999997, 253.26899999999995, 426.4920000000002, 131.17499999999998, 163.198, 299.37, 243.21900000000002, 142.201, 359.4319380000002, 90.07799999999999, 284.34000000000003, 477.4810000000003, 329.23, 378.8990000000002, 1058.1559999999995, 285.774, 78.13600000000001, 153.181, 270.37199999999996, 350.43600000000004, 61.083999999999996, 560.7750000000004, 500.55400000000014, 307.28700000000003, 335.4730000000002, 290.832, 831.9789999999996, 1728.0930000000014, 386.5610000000001, 1030.3029999999999, 704.8690000000001, 146.146, 358.85, 427.3680000000001, 414.4980000000003, 615.403, 1213.4350000000004, 75.06700000000001, 446.91000000000037, 92.09399999999998, 901.238, 296.41400000000004, 62.02400000000001, 393.87999999999994, 1134.934000000001, 111.14800000000001, 723.6500000000005, 110.11199999999997, 414.4830000000002, 39.098, 645.6080000000004, 484.50300000000016, 348.42800000000005, 303.406, 183.207, 262.30899999999997, 244.89100000000002, 776.872, 650.9760000000001, 24.305, 232.283, 1570.3500000000001, 22.99, 454.4360000000002, 122.10299999999997, 1025.8860000000002, 162.23600000000002, 46.005, 44.013, 82.034, 169.18, 17.007, 146.055, 96.98599999999999, 243.31, 348.39900000000006, 687.062, 477.99600000000027, 395.42200000000014, 416.6460000000002, 123.115, 169.17999999999998, 324.4240000000001, 286.45900000000006, 916.1529999999995, 4858.569999999988, 800.0770000000001, 378.4280000000001, 339.35900000000004, 508.5000000000002, 241.25100000000003, 580.5770000000005, 265.36199999999997, 242.231, 371.34500000000014, 168.03599999999997, 182.222, 1416.0889999999997, 475.3620000000001, 1755.6580000000006, 713.3550000000001, 149.23699999999997, 310.828, 420.4340000000002, 366.8440000000001, 3008.3789999999926, 495.54200000000014, 1058.052, 252.24499999999998, 385.9320000000001, 354.28700000000003, 726.2850000000002, 3752.139999999986, 412.4290000000001, 211.953, 749.956, 446.5840000000003, 575.6320000000002, 997.6500000000002, 343.939, 6511.557999999995, 447.89000000000016, 847.0190000000003, 410.4700000000002, 4186.6369999999815, 433.59200000000016, 555.5160000000002, 197.278, 252.273, 285.691, 139.344, 360.4500000000001, 492.59100000000024, 620.7350000000001, 661.7670000000004, 1239.4470000000006, 540.6970000000002, 182.17, 89.63600000000001, 544.5330000000004, 623.6570000000005, 1322.4960000000005, 464.44400000000013, 274.404, 407.4880000000003, 421.4680000000001, 440.4110000000002, 408.92200000000014, 252.273, 547.5750000000003, 482.51300000000015, 237.286, 244.207, 474.55000000000035, 349.51800000000003, 482.8210000000001, 339.47900000000016, 468.59400000000034, 170.237, 102.08899999999998, 286.33900000000006, 924.091000000001, 336.4320000000001, 151.165, 222.251, 75.067, 326.60900000000004, 382.54100000000017, 1227.395, 214.18599999999998, 1255.4379999999985, 332.353, 225.208, 211.64499999999998, 74.922, 637.5250000000004, 816.9430000000001, 456.4580000000002, 265.338, 239.315, 521.0500000000003, 249.09599999999998, 389.45600000000013, 136.114, 294.35800000000006, 416.5260000000002, 308.772, 210.285, 151.253, 502.57900000000035, 443.43200000000013, 263.3809999999999, 613.9150000000001, 214.22699999999998, 585.6080000000003, 232.283, 194.18999999999997, 180.167, 646.3270000000002, 369.48700000000014, 277.411, 298.298, 408.88200000000035, 225.26799999999994, 317.51700000000005, 313.788, 365.4110000000001, 348.4040000000001, 505.63700000000034, 393.4680000000001, 256.092, 293.374, 267.328, 245.11299999999997, 4541.14199999999, 104.10499999999999, 508.6450000000002, 3482.8019999999897, 180.15899999999996, 266.34099999999995, 558.6500000000002, 277.26900000000006, 188.22299999999996, 381.90700000000015, 748.9960000000002, 390.4670000000001, 181.619, 435.4400000000002, 501.98400000000015, 1269.4730000000004, 1323.5280000000005, 213.66399999999996, 4670.383999999984, 521.0500000000003, 408.9220000000001, 424.49700000000024, 421.4220000000001, 1270.2910000000004, 165.19199999999998, 239.36199999999997, 307.437, 212.248, 1221.4729999999997, 334.39700000000005, 388.8950000000002, 366.5490000000002, 383.23199999999997, 396.51600000000013, 251.75399999999996, 170.212, 136.19799999999995, 472.44600000000014, 307.434, 161.22499999999997, 221.34399999999997, 430.3790000000001, 452.5380000000001, 5813.71899999999, 361.3970000000001, 6985.575999999984, 392.49900000000014, 3951.470999999986, 435.8890000000001, 325.449, 295.379, 207.226, 243.16799999999998, 292.14, 344.4950000000001, 316.158, 376.1360000000002, 654.6060000000002, 519.6870000000005, 730.6740000000002, 430.5410000000002, 469.9730000000002, 364.42300000000006, 288.43500000000006, 467.65000000000026, 385.5120000000001, 246.30599999999998, 212.24899999999997, 219.28099999999998, 317.476, 411.5860000000001, 327.46799999999996, 897.7680000000007, 451.61500000000024, 160.23699999999997, 194.194, 454.6110000000003, 412.61400000000015, 416.6460000000002, 379.50000000000006, 610.6709999999999, 440.46300000000014, 668.7169999999995, 305.41800000000006, 217.28999999999996, 147.19799999999998, 236.27399999999997, 376.39000000000016, 226.232, 290.794, 260.334, 154.125, 214.05199999999996, 292.37899999999996, 406.482, 367.8140000000001, 363.3950000000001, 2140.492000000001, 453.51100000000025, 480.57200000000023, 454.46600000000024, 426.4520000000001, 2178.032000000001, 389.4330000000001, 546.5870000000002, 410.4330000000001, 383.4110000000001, 552.5760000000002, 423.38300000000027, 381.3790000000001, 379.50100000000015, 347.39600000000013, 742.6800000000006, 57.072, 453.45800000000014, 459.55800000000016, 388.8950000000001, 1357.7170000000008, 199.31899999999996, 342.47900000000016, 386.44800000000015, 1140.2540000000001, 299.761, 505.4580000000001, 94.117, 319.88, 295.729, 274.795, 318.87300000000005, 276.745, 191.99999999999997, 338.77200000000005, 169.56699999999998, 78.96, 207.27299999999994, 417.5060000000003, 369.4690000000001, 252.347, 262.22099999999995, 331.34700000000004, 298.03, 324.399, 514.6290000000002, 343.8980000000002, 424.9910000000001, 300.745, 466.9770000000002, 478.98800000000017, 473.40700000000015, 405.9690000000001, 314.86, 315.716, 230.09799999999998, 1816.7160000000008, 321.829, 314.72800000000007, 344.845, 370.34400000000016, 326.831, 412.5290000000003, 295.4510000000001, 303.35800000000006, 273.1889999999999, 399.44300000000015, 441.6130000000003, 368.47400000000016, 296.40999999999997, 409.4320000000001, 466.3540000000002, 203.28499999999997, 1356.3959999999993, 275.39500000000004, 291.3910000000001, 261.08899999999994, 1202.6349999999982, 287.4060000000001, 416.9450000000002, 73.89, 410.9130000000001, 316.38200000000006, 325.37200000000007, 337.4630000000001, 313.2490000000001, 248.307, 527.5260000000003, 139.154, 560.6930000000007, 314.469, 266.388, 376.46800000000013, 392.4670000000001, 135.20999999999995, 271.40400000000005, 159.22899999999998, 374.90800000000013, 284.74600000000004, 230.67600000000002, 407.3180000000001, 295.145, 305.16400000000004, 469.3260000000002, 309.4940000000001, 236.231, 393.34900000000016, 494.5310000000003, 250.19999999999996, 508.5580000000003, 780.9490000000003, 301.3860000000001, 583.689, 415.5350000000002, 994.2079999999993, 124.22999999999996, 191.13899999999998, 255.36100000000002, 351.44300000000015, 504.6360000000005, 339.4830000000002, 296.5520000000001, 144.214, 195.21799999999996, 446.5110000000002, 513.5250000000003, 807.8900000000004, 236.29599999999996, 324.38000000000005, 425.92000000000024, 567.0600000000005, 475.5230000000002, 295.451, 378.5160000000003, 451.4830000000002, 279.383, 379.43500000000006, 213.189, 254.24599999999998, 381.68999999999994, 761.8500000000003, 166.244, 315.67799999999994, 272.09, 302.458, 551.7690000000002, 471.52100000000013, 302.4220000000001, 376.45300000000026, 520.3900000000003, 184.49099999999999, 488.57700000000034, 249.317, 454.91300000000024, 448.9500000000003, 464.83100000000013, 396.65900000000016, 325.4120000000001, 581.673, 733.9370000000002, 862.064, 294.745, 396.5710000000002, 958.24, 1749.8470000000004, 356.50600000000003, 200.285, 279.18899999999996, 303.14099999999996, 204.314, 141.17, 204.229, 206.027, 287.3589999999999, 588.5620000000005, 668.5410000000006, 337.4560000000001, 238.24299999999994, 384.2590000000001, 259.265, 360.837, 306.769, 242.274, 336.479, 501.6670000000001, 372.5530000000001, 609.6900000000004, 391.4670000000002, 415.35400000000004, 437.51500000000027, 246.194, 453.8790000000002, 306.276, 129.094, 285.23499999999996, 365.214, 422.49300000000017, 437.5310000000002, 303.29300000000006, 410.4570000000001, 434.5040000000002, 313.288, 452.4940000000002, 334.169, 376.4680000000001, 130.07799999999997, 309.33099999999996, 336.447, 591.7840000000004, 436.5200000000002, 387.886, 244.265, 276.21399999999994, 500.5790000000002, 411.473, 318.339, 441.40400000000017, 82.106, 680.7640000000002, 885.2440000000004, 344.411, 122.97999999999999, 1069.2379999999994, 348.42000000000013, 562.664, 413.56100000000015, 540.7080000000002, 330.749, 670.8550000000001, 171.23999999999998, 287.359, 448.3940000000001, 255.23399999999998, 263.2, 394.55200000000013, 250.33799999999994, 383.5170000000002, 477.60300000000024, 412.91400000000016, 3464.1009999999937, 323.4180000000002, 490.62600000000026, 445.54500000000024, 472.42600000000004, 494.01300000000026, 333.88399999999996, 318.43699999999995, 427.4170000000002, 319.23100000000005, 467.4220000000002, 312.41700000000003, 352.77000000000004, 275.093, 231.08599999999996, 246.09699999999998, 373.88000000000005, 280.29100000000005, 501.47700000000026, 247.25099999999998, 520.6290000000002, 454.9660000000002, 375.87100000000004, 321.33700000000016, 244.294, 1586.8190000000009, 362.57500000000005, 406.9069999999999, 186.082, 432.77300000000025, 311.63700000000006, 359.35400000000004, 254.28899999999996, 275.348, 360.47400000000005, 160.18, 297.745, 362.46600000000007, 432.55700000000024, 331.29699999999997, 285.3430000000001, 335.8790000000001, 76.05499999999999, 374.91200000000003, 289.375, 746.5520000000001, 206.28499999999997, 136.19799999999998, 234.343, 497.5000000000002, 354.1, 261.08899999999994, 280.415, 365.84200000000004, 613.803, 273.248, 534.4320000000002, 339.39900000000017, 357.7930000000002, 1550.1880000000006, 821.1410000000001, 777.0880000000001, 791.1149999999999, 613.9150000000001, 1626.2390000000005, 606.1560000000004, 807.1140000000001, 1268.8830000000003, 791.115, 215.941, 332.464, 384.2450000000001, 428.5400000000001, 586.6890000000001, 1182.3110000000004, 547.7170000000003, 231.25500000000002, 184.49099999999999, 137.14199999999997, 424.62200000000024, 211.261, 236.13599999999997, 596.2980000000003, 301.386, 371.39300000000014, 705.6470000000003, 472.5530000000002, 237.73000000000002, 531.4400000000003, 254.285, 70.003, 309.4340000000001, 215.21600000000004, 877.0450000000005, 558.6900000000002, 166.176, 3099.509999999993, 167.197, 328.41200000000003, 342.297, 229.261, 256.096, 369.36800000000005, 432.60100000000017, 270.21, 285.31, 494.53100000000023, 6.941, 1209.4210000000005, 291.391, 420.52800000000025, 328.48100000000005, 257.377, 226.0, 406.54500000000013, 337.35100000000017, 405.49500000000006, 152.18200000000002, 23.948, 351.35300000000007, 233.69899999999998, 550.3700000000003, 382.8910000000001, 321.163, 422.9200000000001, 404.54700000000025, 327.81500000000005, 856.3400000000001, 366.75300000000004, 349.39300000000003, 186.236, 330.36400000000003, 277.41100000000006, 530.4560000000001, 295.298, 429.55700000000024, 167.296, 156.056, 390.9580000000001, 295.145, 192.25799999999995, 386.5320000000002, 301.38599999999997, 241.29, 378.316, 384.5160000000002, 373.39100000000013, 305.2049999999999, 179.307, 340.44300000000004, 247.338, 218.256, 246.35399999999993, 218.25299999999996, 153.137, 591.6760000000004, 195.693, 211.261, 129.167, 504.4380000000001, 556.7690000000003, 140.19, 259.349, 241.24299999999994, 581.0690000000003, 454.44700000000023, 216.19199999999998, 182.147, 138.059, 318.393, 360.244, 248.186, 513.493, 211.21699999999998, 284.40799999999996, 339.4390000000001, 233.31100000000004, 374.47700000000015, 302.45799999999997, 353.4660000000001, 299.802, 365.8420000000001, 267.36899999999997, 171.15599999999998, 226.279, 179.26299999999995, 264.372, 416.135, 325.774, 254.28599999999997, 429.60400000000016, 211.22400000000002, 209.25300000000001, 265.35999999999996, 320.04599999999994, 444.4880000000002, 312.3770000000001, 268.744, 273.35699999999997, 521.4370000000001, 393.8460000000002, 586.1970000000003, 456.47500000000025, 285.343, 401.43800000000016, 473.8970000000002, 500.62900000000053, 382.52900000000005, 191.27400000000003, 391.4750000000001, 473.5070000000001, 433.5010000000003, 320.341, 382.4620000000002, 516.7190000000004, 307.32500000000005, 508.16700000000014, 444.59700000000015, 684.7000000000003, 1004.8410000000003, 736.8470000000005, 416.51400000000024, 436.3460000000001, 679.8629999999999, 309.413, 1018.421, 534.5800000000003, 757.3280000000004, 1736.184999999999, 618.2630000000005, 146.142, 373.4490000000001, 228.291, 309.40600000000006, 517.7760000000004, 357.45000000000005, 232.23899999999998, 339.4350000000001, 327.37999999999994, 341.407, 428.65700000000027, 210.28, 335.47300000000024, 317.4290000000001, 470.0170000000003, 253.345, 567.7960000000004, 614.6500000000002, 130.099, 223.29599999999996, 266.30400000000003, 480.54100000000017, 346.3390000000001, 317.223, 303.6809999999999, 429.4390000000001, 418.44600000000025, 388.42000000000013, 357.3220000000001, 281.271, 238.159, 227.08499999999995, 331.4670000000001, 137.16199999999998, 465.5720000000001, 298.42600000000004, 319.336, 312.45300000000003, 263.38399999999996, 452.5950000000003, 1047.2269999999999, 530.6610000000004, 926.107000000001, 270.21, 958.94, 298.4550000000001, 361.3730000000001, 312.44200000000006, 318.35400000000004, 345.42400000000004, 293.37, 495.7450000000004, 269.388, 312.4100000000001, 398.40000000000015, 400.4360000000002, 397.288, 324.44900000000007, 293.32199999999995, 286.718, 430.5410000000002, 429.134, 536.8930000000001, 265.35299999999995, 357.494, 315.369, 332.48400000000004, 301.342, 153.137, 489.9310000000001, 853.9180000000003, 279.03299999999996, 572.8750000000002, 205.25399999999996, 383.3760000000001, 339.39100000000013, 615.6340000000002, 329.37100000000004, 545.7030000000003, 105.988, 496.50600000000026, 198.21799999999996, 291.43500000000006, 253.262, 149.215, 349.3880000000001, 340.42699999999996, 285.431, 226.27599999999998, 268.273, 278.31200000000007, 373.3680000000001, 314.49800000000005, 277.496, 365.50200000000007, 403.9790000000002, 213.244, 232.239, 303.83299999999997, 149.23699999999997, 164.20399999999998, 519.5740000000002, 167.208, 184.21599999999998, 151.20899999999997, 440.5070000000001, 241.682, 275.35200000000003, 450.70700000000033, 208.26100000000002, 149.62099999999998, 248.32600000000002, 356.44700000000006, 516.5560000000003, 393.4430000000002, 240.303, 718.807, 414.4100000000002, 1203.499, 439.8900000000001, 3751.2619999999843, 211.33399999999997, 424.5340000000002, 312.4130000000001, 383.4080000000001, 360.45000000000005, 402.48700000000014, 440.4290000000002, 358.434, 220.316, 259.353, 218.256, 285.365, 235.33100000000002, 236.315, 221.304, 373.9530000000001, 314.3660000000001, 314.4690000000001, 253.73700000000005, 284.428, 341.451, 368.4970000000001, 294.395, 178.27499999999998, 259.349, 602.5010000000003, 520.5640000000002, 450.9300000000002, 263.384, 484.66300000000024, 206.31400000000002, 181.21499999999997, 285.391, 248.717, 386.80100000000004, 383.5170000000001, 438.5240000000003, 387.23, 107.109, 415.5740000000001, 165.236, 473.59400000000016, 416.5180000000003, 314.41100000000006, 914.1870000000001, 437.52900000000017, 634.7260000000002, 608.6880000000003, 244.20699999999994, 234.20199999999997, 179.30699999999996, 410.49300000000017, 720.9620000000002, 250.34199999999998, 269.352, 457.83599999999996, 314.36199999999997, 260.381, 651.9520000000003, 837.0580000000001, 335.19000000000005, 541.5790000000004, 370.43000000000006, 519.4480000000003, 810.9890000000001, 415.57400000000007, 224.216, 258.229, 259.19499999999994, 303.35799999999995, 238.28699999999998, 187.28599999999994, 306.236, 200.05299999999997, 279.8550000000001, 474.5870000000004, 360.16700000000003, 250.283, 1139.3649999999993, 367.3830000000001, 149.894, 283.11299999999994, 294.457, 272.37, 392.4060000000001, 529.5260000000002, 416.5830000000003, 362.3900000000002, 493.61500000000024, 581.5800000000003, 306.37300000000005, 265.222, 418.5740000000003, 264.3249999999999, 290.404, 397.7579999999999, 214.246, 253.28300000000002, 172.20899999999997, 367.8770000000002, 356.41800000000006, 295.408, 260.31399999999996, 804.0310000000002, 371.52400000000006, 375.40000000000015, 351.4710000000002, 300.745, 404.55100000000016, 194.15399999999997, 427.4640000000001, 656.6620000000005, 835.9440000000003, 387.44000000000017, 291.438, 225.288, 532.4720000000002, 300.39799999999997, 288.43100000000004, 400.6030000000003, 344.4950000000001, 264.36899999999997, 504.5950000000003, 200.28499999999994, 258.233, 201.25400000000002, 1313.4330000000004, 370.5870000000001, 189.22399999999996, 443.6380000000002, 375.559, 260.31399999999996, 312.453, 281.832, 980.1809999999995, 316.4270000000001, 247.27599999999998, 163.198, 440.6060000000004, 253.718, 528.5370000000001, 467.52000000000027, 5135.862999999984, 311.40700000000015, 270.354, 534.4910000000003, 256.281, 325.496, 339.36600000000004, 421.45300000000015, 405.96900000000005, 263.381, 215.29999999999998, 430.54500000000036, 157.21300000000002, 133.19399999999996, 602.6410000000002, 371.87200000000007, 747.9640000000002, 300.44200000000006, 394.4390000000001, 435.28500000000014, 343.217, 319.36500000000007, 289.54499999999996, 146.238, 407.5050000000001, 301.47399999999993, 143.14199999999997, 388.46400000000017, 290.32300000000004, 444.5150000000001, 370.43300000000016, 294.44199999999995, 441.54900000000015, 284.359, 284.35900000000004, 392.519, 359.4510000000002, 435.50100000000015, 416.3590000000001, 464.98600000000016, 181.213, 307.90100000000007, 456.5720000000001, 307.39700000000005, 390.5200000000001, 382.54100000000017, 392.58000000000015, 324.34100000000007, 435.5280000000002, 1449.2710000000004, 466.9580000000002, 396.44300000000015, 532.5700000000003, 129.159, 402.49100000000016, 778.9470000000002, 291.82199999999995, 450.9150000000001, 588.2820000000002, 575.6870000000001, 211.22099999999998, 305.34100000000007, 332.3130000000001, 267.245, 136.296, 287.363, 307.39700000000005, 212.22999999999996, 388.81500000000005, 274.408, 334.33200000000005, 405.4410000000001, 1007.2069999999992, 281.359, 1029.2779999999996, 441.5750000000001, 563.5640000000004, 348.3970000000002, 30.006, 1156.399, 426.4880000000001, 1364.6000000000006, 776.0420000000001, 151.93299999999996, 574.8430000000003, 299.37000000000006, 416.51400000000024, 306.446, 450.3450000000002, 475.6230000000002, 498.5860000000002, 1092.2330000000006, 390.078, 101.11300000000003, 185.8922547, 824.9720000000002, 719.924, 699.944, 529.4580000000002, 485.94700000000023, 455.5990000000001, 317.4290000000001, 277.40799999999996, 5831.68999999999, 390.36000000000007, 268.27299999999997, 292.24399999999997, 1139.7640000000004, 77.152, 605.6910000000004, 349.31600000000003, 250.298, 681.7530000000004, 614.4110000000002, 158.166, 588.7270000000002, 373.26599999999996, 909.3899999999998, 470.5220000000002, 1632.2890000000002, 297.2710000000001, 330.4680000000001, 296.201, 546.146707, 412.65800000000013, 1347.3849999999993, 693.7320000000003, 361.82500000000005, 515.6000000000003, 938.005, 282.81500000000005, 238.19699999999997, 583.5970000000004, 929.1609999999998, 1243.501, 543.6060000000002, 360.4940000000001, 114.173, 188.01699999999997, 434.50400000000013, 606.7820000000008, 698.0210000000002, 458.4960000000002, 510.4810000000003, 302.242, 243.39399999999995, 423.4220000000002, 203.241, 277.284, 340.42, 386.48, 398.48200000000014, 315.6940000000001, 186.236, 121.136, 112.131, 474.797, 305.2900000000001, 273.244, 426.56000000000034, 211.26799999999997, 456.3220000000001, 500.2569999999999, 551.6250000000002, 211.17699999999994, 255.273, 785.8909999999998, 595.4880000000003, 233.54699999999997, 398.934, 936.9930000000005, 506.70900000000023, 421.30500000000006, 591.4250000000002, 274.32, 323.867, 132.159, 197.841, 488.01700000000034, 190.155, 20.006, 266.38800000000003, 274.99, 370.5330000000001, 234.29499999999996, 483.96000000000026, 1269.4330000000004, 530.6650000000005, 380.4560000000001, 354.3670000000001, 403.212, 69.723, 301.39400000000006, 331.93100000000004, 1237.5180000000005, 309.406, 481.54600000000016, 1512.6470000000006, 1311.4730000000006, 637.7440000000004, 164.20399999999995, 205.30100000000002, 909.1439999999998, 957.8680000000004, 431.151, 372.54900000000015, 441.3660000000001, 368.5140000000001, 501.51400000000024, 406.242, 242.23, 303.337, 665.7330000000003, 5916.926999999995, 338.4550000000001, 221.25599999999997, 822.9530000000004, 296.3260000000001, 436.5740000000002, 478.0560000000001, 1545.0859999999998, 444.52400000000017, 391.29400000000004, 389.3870000000001, 729.9080000000001, 59.071999999999996, 383.47000000000014, 174.17399999999998, 332.24399999999997, 291.19599999999997, 431.28899999999993, 276.37999999999994, 55.845, 138.906, 150.36, 107.868, 98.0, 182.18699999999998, 318.756, 442.47500000000025, 568.5420000000004, 51.996, 320.84200000000004, 63.546, 157.25, 88.906, 65.39, 171.243, 585.6580000000004, 200.237, 287.21599999999995, 646.6390000000001, 308.12, 794.4840000000006, 713.1370000000001, 603.7500000000003, 143.094, 538.5840000000003, 563.8370000000002, 1477.9629999999986, 810.4660000000001, 3431.9089999999887, 2933.4919999999925, 420.51300000000015, 1620.693000000001, 1793.1250000000002, 376.40900000000016, 427.54500000000013, 3056.440999999991, 456.71100000000035, 5807.670999999988, 7594.905999999991, 4117.786999999984, 2639.1870000000004, 245.32199999999995, 1879.6800000000014, 6963.528999999986, 2180.317000000001, 185.226, 353.33500000000004, 344.49500000000006, 388.4640000000001, 352.32200000000006, 366.4280000000001, 176.001, 340.232, 1422.72, 460.5080000000002, 358.4439380000002, 422.4240000000002, 736.7140000000005, 558.5950000000004, 604.7150000000001, 1179.3849999999993, 464.8580000000001, 563.6050000000004, 504.97000000000014, 233.391, 266.0919999999999, 161.45299999999997, 304.217, 288.387, 460.57100000000025, 812.0179999999997, 408.87800000000004, 461.55600000000015, 309.45300000000003]\n"
          ],
          "name": "stdout"
        }
      ]
    },
    {
      "cell_type": "markdown",
      "metadata": {
        "id": "qkL8KQJCa2cy"
      },
      "source": [
        "    Concatenating weights to sider.."
      ]
    },
    {
      "cell_type": "code",
      "metadata": {
        "id": "i_INqiTw7FLP"
      },
      "source": [
        "sider['Molecular_Weights']=mol_weights"
      ],
      "execution_count": null,
      "outputs": []
    },
    {
      "cell_type": "code",
      "metadata": {
        "colab": {
          "base_uri": "https://localhost:8080/",
          "height": 326
        },
        "id": "hDaJLWRjanHS",
        "outputId": "a1047c36-727d-4ffc-fe0b-00ee792f42e1"
      },
      "source": [
        "sider[:5]"
      ],
      "execution_count": null,
      "outputs": [
        {
          "output_type": "execute_result",
          "data": {
            "text/html": [
              "<div>\n",
              "<style scoped>\n",
              "    .dataframe tbody tr th:only-of-type {\n",
              "        vertical-align: middle;\n",
              "    }\n",
              "\n",
              "    .dataframe tbody tr th {\n",
              "        vertical-align: top;\n",
              "    }\n",
              "\n",
              "    .dataframe thead th {\n",
              "        text-align: right;\n",
              "    }\n",
              "</style>\n",
              "<table border=\"1\" class=\"dataframe\">\n",
              "  <thead>\n",
              "    <tr style=\"text-align: right;\">\n",
              "      <th></th>\n",
              "      <th>smiles</th>\n",
              "      <th>Hepatobiliary disorders</th>\n",
              "      <th>Metabolism and nutrition disorders</th>\n",
              "      <th>Eye disorders</th>\n",
              "      <th>Musculoskeletal and connective tissue disorders</th>\n",
              "      <th>Gastrointestinal disorders</th>\n",
              "      <th>Immune system disorders</th>\n",
              "      <th>Reproductive system and breast disorders</th>\n",
              "      <th>Neoplasms benign, malignant and unspecified (incl cysts and polyps)</th>\n",
              "      <th>General disorders and administration site conditions</th>\n",
              "      <th>Endocrine disorders</th>\n",
              "      <th>Surgical and medical procedures</th>\n",
              "      <th>Vascular disorders</th>\n",
              "      <th>Blood and lymphatic system disorders</th>\n",
              "      <th>Skin and subcutaneous tissue disorders</th>\n",
              "      <th>Congenital, familial and genetic disorders</th>\n",
              "      <th>Infections and infestations</th>\n",
              "      <th>Respiratory, thoracic and mediastinal disorders</th>\n",
              "      <th>Psychiatric disorders</th>\n",
              "      <th>Renal and urinary disorders</th>\n",
              "      <th>Pregnancy, puerperium and perinatal conditions</th>\n",
              "      <th>Ear and labyrinth disorders</th>\n",
              "      <th>Cardiac disorders</th>\n",
              "      <th>Nervous system disorders</th>\n",
              "      <th>Injury, poisoning and procedural complications</th>\n",
              "      <th>Molecular_Weights</th>\n",
              "    </tr>\n",
              "  </thead>\n",
              "  <tbody>\n",
              "    <tr>\n",
              "      <th>0</th>\n",
              "      <td>CC12CCC3C(C1CCC2=O)CC=C4C3(CCC(C4)O)C</td>\n",
              "      <td>1</td>\n",
              "      <td>1</td>\n",
              "      <td>0</td>\n",
              "      <td>1</td>\n",
              "      <td>1</td>\n",
              "      <td>1</td>\n",
              "      <td>1</td>\n",
              "      <td>1</td>\n",
              "      <td>1</td>\n",
              "      <td>1</td>\n",
              "      <td>1</td>\n",
              "      <td>1</td>\n",
              "      <td>1</td>\n",
              "      <td>1</td>\n",
              "      <td>0</td>\n",
              "      <td>1</td>\n",
              "      <td>1</td>\n",
              "      <td>1</td>\n",
              "      <td>1</td>\n",
              "      <td>0</td>\n",
              "      <td>1</td>\n",
              "      <td>1</td>\n",
              "      <td>1</td>\n",
              "      <td>1</td>\n",
              "      <td>288.431</td>\n",
              "    </tr>\n",
              "    <tr>\n",
              "      <th>1</th>\n",
              "      <td>C[N+](C)(C)CC(CC(=O)O)O</td>\n",
              "      <td>1</td>\n",
              "      <td>1</td>\n",
              "      <td>1</td>\n",
              "      <td>1</td>\n",
              "      <td>1</td>\n",
              "      <td>1</td>\n",
              "      <td>1</td>\n",
              "      <td>1</td>\n",
              "      <td>1</td>\n",
              "      <td>1</td>\n",
              "      <td>1</td>\n",
              "      <td>1</td>\n",
              "      <td>1</td>\n",
              "      <td>1</td>\n",
              "      <td>1</td>\n",
              "      <td>1</td>\n",
              "      <td>1</td>\n",
              "      <td>1</td>\n",
              "      <td>1</td>\n",
              "      <td>1</td>\n",
              "      <td>0</td>\n",
              "      <td>1</td>\n",
              "      <td>1</td>\n",
              "      <td>1</td>\n",
              "      <td>162.209</td>\n",
              "    </tr>\n",
              "    <tr>\n",
              "      <th>2</th>\n",
              "      <td>C(CC(=O)O)CN</td>\n",
              "      <td>1</td>\n",
              "      <td>1</td>\n",
              "      <td>1</td>\n",
              "      <td>1</td>\n",
              "      <td>1</td>\n",
              "      <td>1</td>\n",
              "      <td>1</td>\n",
              "      <td>1</td>\n",
              "      <td>1</td>\n",
              "      <td>1</td>\n",
              "      <td>1</td>\n",
              "      <td>1</td>\n",
              "      <td>1</td>\n",
              "      <td>1</td>\n",
              "      <td>1</td>\n",
              "      <td>1</td>\n",
              "      <td>1</td>\n",
              "      <td>1</td>\n",
              "      <td>1</td>\n",
              "      <td>1</td>\n",
              "      <td>1</td>\n",
              "      <td>1</td>\n",
              "      <td>1</td>\n",
              "      <td>1</td>\n",
              "      <td>103.121</td>\n",
              "    </tr>\n",
              "    <tr>\n",
              "      <th>3</th>\n",
              "      <td>C1C(N(C2=C(N1)NC(=NC2=O)N)C=O)CNC3=CC=C(C=C3)C...</td>\n",
              "      <td>1</td>\n",
              "      <td>1</td>\n",
              "      <td>1</td>\n",
              "      <td>1</td>\n",
              "      <td>1</td>\n",
              "      <td>1</td>\n",
              "      <td>1</td>\n",
              "      <td>1</td>\n",
              "      <td>1</td>\n",
              "      <td>1</td>\n",
              "      <td>1</td>\n",
              "      <td>1</td>\n",
              "      <td>1</td>\n",
              "      <td>1</td>\n",
              "      <td>1</td>\n",
              "      <td>1</td>\n",
              "      <td>1</td>\n",
              "      <td>1</td>\n",
              "      <td>1</td>\n",
              "      <td>1</td>\n",
              "      <td>1</td>\n",
              "      <td>1</td>\n",
              "      <td>1</td>\n",
              "      <td>1</td>\n",
              "      <td>473.446</td>\n",
              "    </tr>\n",
              "    <tr>\n",
              "      <th>4</th>\n",
              "      <td>CCCCCC(C=CC1C(CC(=O)C1CC=CCCCC(=O)O)O)O</td>\n",
              "      <td>1</td>\n",
              "      <td>0</td>\n",
              "      <td>0</td>\n",
              "      <td>1</td>\n",
              "      <td>1</td>\n",
              "      <td>1</td>\n",
              "      <td>0</td>\n",
              "      <td>0</td>\n",
              "      <td>1</td>\n",
              "      <td>0</td>\n",
              "      <td>1</td>\n",
              "      <td>1</td>\n",
              "      <td>0</td>\n",
              "      <td>0</td>\n",
              "      <td>1</td>\n",
              "      <td>1</td>\n",
              "      <td>0</td>\n",
              "      <td>1</td>\n",
              "      <td>1</td>\n",
              "      <td>1</td>\n",
              "      <td>0</td>\n",
              "      <td>1</td>\n",
              "      <td>1</td>\n",
              "      <td>1</td>\n",
              "      <td>352.471</td>\n",
              "    </tr>\n",
              "  </tbody>\n",
              "</table>\n",
              "</div>"
            ],
            "text/plain": [
              "                                              smiles  ...  Molecular_Weights\n",
              "0              CC12CCC3C(C1CCC2=O)CC=C4C3(CCC(C4)O)C  ...            288.431\n",
              "1                            C[N+](C)(C)CC(CC(=O)O)O  ...            162.209\n",
              "2                                       C(CC(=O)O)CN  ...            103.121\n",
              "3  C1C(N(C2=C(N1)NC(=NC2=O)N)C=O)CNC3=CC=C(C=C3)C...  ...            473.446\n",
              "4            CCCCCC(C=CC1C(CC(=O)C1CC=CCCCC(=O)O)O)O  ...            352.471\n",
              "\n",
              "[5 rows x 26 columns]"
            ]
          },
          "metadata": {
            "tags": []
          },
          "execution_count": 23
        }
      ]
    },
    {
      "cell_type": "markdown",
      "metadata": {
        "id": "XKKrfbDRcGLT"
      },
      "source": [
        "### `Radical Electrons`\n",
        "\n",
        "    Getting no.of radical electrons from smiles"
      ]
    },
    {
      "cell_type": "code",
      "metadata": {
        "colab": {
          "base_uri": "https://localhost:8080/"
        },
        "id": "DK6h6785aoPK",
        "outputId": "d8f3a259-798f-4e67-fd8a-0574fa54bb44"
      },
      "source": [
        "radical_electrons = []\n",
        "\n",
        "for smile in sider.iloc[:,0]:\n",
        "  mol = Chem.MolFromSmiles(smile)\n",
        "  radical_electrons.append(Descriptors.NumRadicalElectrons(mol))"
      ],
      "execution_count": null,
      "outputs": [
        {
          "output_type": "stream",
          "text": [
            "RDKit WARNING: [14:00:52] WARNING: not removing hydrogen atom without neighbors\n",
            "RDKit WARNING: [14:00:52] WARNING: not removing hydrogen atom without neighbors\n",
            "RDKit WARNING: [14:00:52] WARNING: not removing hydrogen atom without neighbors\n",
            "RDKit WARNING: [14:00:52] WARNING: not removing hydrogen atom without neighbors\n",
            "RDKit WARNING: [14:00:52] WARNING: not removing hydrogen atom without neighbors\n",
            "RDKit WARNING: [14:00:52] WARNING: not removing hydrogen atom without neighbors\n",
            "RDKit WARNING: [14:00:52] WARNING: not removing hydrogen atom without neighbors\n",
            "RDKit WARNING: [14:00:52] WARNING: not removing hydrogen atom without neighbors\n",
            "RDKit WARNING: [14:00:52] WARNING: not removing hydrogen atom without neighbors\n",
            "RDKit WARNING: [14:00:52] WARNING: not removing hydrogen atom without neighbors\n",
            "RDKit WARNING: [14:00:52] WARNING: not removing hydrogen atom without neighbors\n",
            "RDKit WARNING: [14:00:53] WARNING: not removing hydrogen atom without neighbors\n",
            "RDKit WARNING: [14:00:53] WARNING: not removing hydrogen atom without neighbors\n"
          ],
          "name": "stderr"
        }
      ]
    },
    {
      "cell_type": "code",
      "metadata": {
        "id": "TP91z4uQ7o38"
      },
      "source": [
        "sider['Radical Electrons'] =radical_electrons"
      ],
      "execution_count": null,
      "outputs": []
    },
    {
      "cell_type": "code",
      "metadata": {
        "colab": {
          "base_uri": "https://localhost:8080/",
          "height": 295
        },
        "id": "uAbxUZd_cmCy",
        "outputId": "8536fdc4-353b-4c56-ac05-3a07edc540e0"
      },
      "source": [
        "sider[:4]"
      ],
      "execution_count": null,
      "outputs": [
        {
          "output_type": "execute_result",
          "data": {
            "text/html": [
              "<div>\n",
              "<style scoped>\n",
              "    .dataframe tbody tr th:only-of-type {\n",
              "        vertical-align: middle;\n",
              "    }\n",
              "\n",
              "    .dataframe tbody tr th {\n",
              "        vertical-align: top;\n",
              "    }\n",
              "\n",
              "    .dataframe thead th {\n",
              "        text-align: right;\n",
              "    }\n",
              "</style>\n",
              "<table border=\"1\" class=\"dataframe\">\n",
              "  <thead>\n",
              "    <tr style=\"text-align: right;\">\n",
              "      <th></th>\n",
              "      <th>smiles</th>\n",
              "      <th>Hepatobiliary disorders</th>\n",
              "      <th>Metabolism and nutrition disorders</th>\n",
              "      <th>Eye disorders</th>\n",
              "      <th>Musculoskeletal and connective tissue disorders</th>\n",
              "      <th>Gastrointestinal disorders</th>\n",
              "      <th>Immune system disorders</th>\n",
              "      <th>Reproductive system and breast disorders</th>\n",
              "      <th>Neoplasms benign, malignant and unspecified (incl cysts and polyps)</th>\n",
              "      <th>General disorders and administration site conditions</th>\n",
              "      <th>Endocrine disorders</th>\n",
              "      <th>Surgical and medical procedures</th>\n",
              "      <th>Vascular disorders</th>\n",
              "      <th>Blood and lymphatic system disorders</th>\n",
              "      <th>Skin and subcutaneous tissue disorders</th>\n",
              "      <th>Congenital, familial and genetic disorders</th>\n",
              "      <th>Infections and infestations</th>\n",
              "      <th>Respiratory, thoracic and mediastinal disorders</th>\n",
              "      <th>Psychiatric disorders</th>\n",
              "      <th>Renal and urinary disorders</th>\n",
              "      <th>Pregnancy, puerperium and perinatal conditions</th>\n",
              "      <th>Ear and labyrinth disorders</th>\n",
              "      <th>Cardiac disorders</th>\n",
              "      <th>Nervous system disorders</th>\n",
              "      <th>Injury, poisoning and procedural complications</th>\n",
              "      <th>Molecular_Weights</th>\n",
              "      <th>Radical Electrons</th>\n",
              "      <th>Valence Electrons</th>\n",
              "    </tr>\n",
              "  </thead>\n",
              "  <tbody>\n",
              "    <tr>\n",
              "      <th>0</th>\n",
              "      <td>CC12CCC3C(C1CCC2=O)CC=C4C3(CCC(C4)O)C</td>\n",
              "      <td>1</td>\n",
              "      <td>1</td>\n",
              "      <td>0</td>\n",
              "      <td>1</td>\n",
              "      <td>1</td>\n",
              "      <td>1</td>\n",
              "      <td>1</td>\n",
              "      <td>1</td>\n",
              "      <td>1</td>\n",
              "      <td>1</td>\n",
              "      <td>1</td>\n",
              "      <td>1</td>\n",
              "      <td>1</td>\n",
              "      <td>1</td>\n",
              "      <td>0</td>\n",
              "      <td>1</td>\n",
              "      <td>1</td>\n",
              "      <td>1</td>\n",
              "      <td>1</td>\n",
              "      <td>0</td>\n",
              "      <td>1</td>\n",
              "      <td>1</td>\n",
              "      <td>1</td>\n",
              "      <td>1</td>\n",
              "      <td>288.431</td>\n",
              "      <td>0</td>\n",
              "      <td>116</td>\n",
              "    </tr>\n",
              "    <tr>\n",
              "      <th>1</th>\n",
              "      <td>C[N+](C)(C)CC(CC(=O)O)O</td>\n",
              "      <td>1</td>\n",
              "      <td>1</td>\n",
              "      <td>1</td>\n",
              "      <td>1</td>\n",
              "      <td>1</td>\n",
              "      <td>1</td>\n",
              "      <td>1</td>\n",
              "      <td>1</td>\n",
              "      <td>1</td>\n",
              "      <td>1</td>\n",
              "      <td>1</td>\n",
              "      <td>1</td>\n",
              "      <td>1</td>\n",
              "      <td>1</td>\n",
              "      <td>1</td>\n",
              "      <td>1</td>\n",
              "      <td>1</td>\n",
              "      <td>1</td>\n",
              "      <td>1</td>\n",
              "      <td>1</td>\n",
              "      <td>0</td>\n",
              "      <td>1</td>\n",
              "      <td>1</td>\n",
              "      <td>1</td>\n",
              "      <td>162.209</td>\n",
              "      <td>0</td>\n",
              "      <td>66</td>\n",
              "    </tr>\n",
              "    <tr>\n",
              "      <th>2</th>\n",
              "      <td>C(CC(=O)O)CN</td>\n",
              "      <td>1</td>\n",
              "      <td>1</td>\n",
              "      <td>1</td>\n",
              "      <td>1</td>\n",
              "      <td>1</td>\n",
              "      <td>1</td>\n",
              "      <td>1</td>\n",
              "      <td>1</td>\n",
              "      <td>1</td>\n",
              "      <td>1</td>\n",
              "      <td>1</td>\n",
              "      <td>1</td>\n",
              "      <td>1</td>\n",
              "      <td>1</td>\n",
              "      <td>1</td>\n",
              "      <td>1</td>\n",
              "      <td>1</td>\n",
              "      <td>1</td>\n",
              "      <td>1</td>\n",
              "      <td>1</td>\n",
              "      <td>1</td>\n",
              "      <td>1</td>\n",
              "      <td>1</td>\n",
              "      <td>1</td>\n",
              "      <td>103.121</td>\n",
              "      <td>0</td>\n",
              "      <td>42</td>\n",
              "    </tr>\n",
              "    <tr>\n",
              "      <th>3</th>\n",
              "      <td>C1C(N(C2=C(N1)NC(=NC2=O)N)C=O)CNC3=CC=C(C=C3)C...</td>\n",
              "      <td>1</td>\n",
              "      <td>1</td>\n",
              "      <td>1</td>\n",
              "      <td>1</td>\n",
              "      <td>1</td>\n",
              "      <td>1</td>\n",
              "      <td>1</td>\n",
              "      <td>1</td>\n",
              "      <td>1</td>\n",
              "      <td>1</td>\n",
              "      <td>1</td>\n",
              "      <td>1</td>\n",
              "      <td>1</td>\n",
              "      <td>1</td>\n",
              "      <td>1</td>\n",
              "      <td>1</td>\n",
              "      <td>1</td>\n",
              "      <td>1</td>\n",
              "      <td>1</td>\n",
              "      <td>1</td>\n",
              "      <td>1</td>\n",
              "      <td>1</td>\n",
              "      <td>1</td>\n",
              "      <td>1</td>\n",
              "      <td>473.446</td>\n",
              "      <td>0</td>\n",
              "      <td>180</td>\n",
              "    </tr>\n",
              "  </tbody>\n",
              "</table>\n",
              "</div>"
            ],
            "text/plain": [
              "                                              smiles  ...  Valence Electrons\n",
              "0              CC12CCC3C(C1CCC2=O)CC=C4C3(CCC(C4)O)C  ...                116\n",
              "1                            C[N+](C)(C)CC(CC(=O)O)O  ...                 66\n",
              "2                                       C(CC(=O)O)CN  ...                 42\n",
              "3  C1C(N(C2=C(N1)NC(=NC2=O)N)C=O)CNC3=CC=C(C=C3)C...  ...                180\n",
              "\n",
              "[4 rows x 28 columns]"
            ]
          },
          "metadata": {
            "tags": []
          },
          "execution_count": 33
        }
      ]
    },
    {
      "cell_type": "markdown",
      "metadata": {
        "id": "Yv3jn5oNcsth"
      },
      "source": [
        "### `Valence Electrons`"
      ]
    },
    {
      "cell_type": "code",
      "metadata": {
        "colab": {
          "base_uri": "https://localhost:8080/"
        },
        "id": "8b9JT865cysf",
        "outputId": "fd3f5ddd-d48d-4f55-fd52-6ee0a867f4ce"
      },
      "source": [
        "valence_electrons = []\n",
        "\n",
        "for smile in sider.iloc[:,0]:\n",
        "  mol = Chem.MolFromSmiles(smile)\n",
        "  valence_electrons.append(Descriptors.NumValenceElectrons(mol))"
      ],
      "execution_count": null,
      "outputs": [
        {
          "output_type": "stream",
          "text": [
            "RDKit WARNING: [14:00:41] WARNING: not removing hydrogen atom without neighbors\n",
            "RDKit WARNING: [14:00:41] WARNING: not removing hydrogen atom without neighbors\n",
            "RDKit WARNING: [14:00:41] WARNING: not removing hydrogen atom without neighbors\n",
            "RDKit WARNING: [14:00:41] WARNING: not removing hydrogen atom without neighbors\n",
            "RDKit WARNING: [14:00:41] WARNING: not removing hydrogen atom without neighbors\n",
            "RDKit WARNING: [14:00:41] WARNING: not removing hydrogen atom without neighbors\n",
            "RDKit WARNING: [14:00:41] WARNING: not removing hydrogen atom without neighbors\n",
            "RDKit WARNING: [14:00:41] WARNING: not removing hydrogen atom without neighbors\n",
            "RDKit WARNING: [14:00:41] WARNING: not removing hydrogen atom without neighbors\n",
            "RDKit WARNING: [14:00:41] WARNING: not removing hydrogen atom without neighbors\n",
            "RDKit WARNING: [14:00:41] WARNING: not removing hydrogen atom without neighbors\n",
            "RDKit WARNING: [14:00:42] WARNING: not removing hydrogen atom without neighbors\n",
            "RDKit WARNING: [14:00:42] WARNING: not removing hydrogen atom without neighbors\n"
          ],
          "name": "stderr"
        }
      ]
    },
    {
      "cell_type": "code",
      "metadata": {
        "id": "ui6XEZhbdIVH"
      },
      "source": [
        "sider['Valence Electrons']  = valence_electrons"
      ],
      "execution_count": null,
      "outputs": []
    },
    {
      "cell_type": "code",
      "metadata": {
        "colab": {
          "base_uri": "https://localhost:8080/",
          "height": 234
        },
        "id": "r5zMABRfdMie",
        "outputId": "6bcb3314-7f63-4074-d853-c0e0d5cec905"
      },
      "source": [
        "sider[:2]"
      ],
      "execution_count": null,
      "outputs": [
        {
          "output_type": "execute_result",
          "data": {
            "text/html": [
              "<div>\n",
              "<style scoped>\n",
              "    .dataframe tbody tr th:only-of-type {\n",
              "        vertical-align: middle;\n",
              "    }\n",
              "\n",
              "    .dataframe tbody tr th {\n",
              "        vertical-align: top;\n",
              "    }\n",
              "\n",
              "    .dataframe thead th {\n",
              "        text-align: right;\n",
              "    }\n",
              "</style>\n",
              "<table border=\"1\" class=\"dataframe\">\n",
              "  <thead>\n",
              "    <tr style=\"text-align: right;\">\n",
              "      <th></th>\n",
              "      <th>smiles</th>\n",
              "      <th>Hepatobiliary disorders</th>\n",
              "      <th>Metabolism and nutrition disorders</th>\n",
              "      <th>Eye disorders</th>\n",
              "      <th>Musculoskeletal and connective tissue disorders</th>\n",
              "      <th>Gastrointestinal disorders</th>\n",
              "      <th>Immune system disorders</th>\n",
              "      <th>Reproductive system and breast disorders</th>\n",
              "      <th>Neoplasms benign, malignant and unspecified (incl cysts and polyps)</th>\n",
              "      <th>General disorders and administration site conditions</th>\n",
              "      <th>Endocrine disorders</th>\n",
              "      <th>Surgical and medical procedures</th>\n",
              "      <th>Vascular disorders</th>\n",
              "      <th>Blood and lymphatic system disorders</th>\n",
              "      <th>Skin and subcutaneous tissue disorders</th>\n",
              "      <th>Congenital, familial and genetic disorders</th>\n",
              "      <th>Infections and infestations</th>\n",
              "      <th>Respiratory, thoracic and mediastinal disorders</th>\n",
              "      <th>Psychiatric disorders</th>\n",
              "      <th>Renal and urinary disorders</th>\n",
              "      <th>Pregnancy, puerperium and perinatal conditions</th>\n",
              "      <th>Ear and labyrinth disorders</th>\n",
              "      <th>Cardiac disorders</th>\n",
              "      <th>Nervous system disorders</th>\n",
              "      <th>Injury, poisoning and procedural complications</th>\n",
              "      <th>Molecular_Weights</th>\n",
              "      <th>Radical Electrons</th>\n",
              "      <th>Valence Electrons</th>\n",
              "    </tr>\n",
              "  </thead>\n",
              "  <tbody>\n",
              "    <tr>\n",
              "      <th>0</th>\n",
              "      <td>CC12CCC3C(C1CCC2=O)CC=C4C3(CCC(C4)O)C</td>\n",
              "      <td>1</td>\n",
              "      <td>1</td>\n",
              "      <td>0</td>\n",
              "      <td>1</td>\n",
              "      <td>1</td>\n",
              "      <td>1</td>\n",
              "      <td>1</td>\n",
              "      <td>1</td>\n",
              "      <td>1</td>\n",
              "      <td>1</td>\n",
              "      <td>1</td>\n",
              "      <td>1</td>\n",
              "      <td>1</td>\n",
              "      <td>1</td>\n",
              "      <td>0</td>\n",
              "      <td>1</td>\n",
              "      <td>1</td>\n",
              "      <td>1</td>\n",
              "      <td>1</td>\n",
              "      <td>0</td>\n",
              "      <td>1</td>\n",
              "      <td>1</td>\n",
              "      <td>1</td>\n",
              "      <td>1</td>\n",
              "      <td>288.431</td>\n",
              "      <td>0</td>\n",
              "      <td>116</td>\n",
              "    </tr>\n",
              "    <tr>\n",
              "      <th>1</th>\n",
              "      <td>C[N+](C)(C)CC(CC(=O)O)O</td>\n",
              "      <td>1</td>\n",
              "      <td>1</td>\n",
              "      <td>1</td>\n",
              "      <td>1</td>\n",
              "      <td>1</td>\n",
              "      <td>1</td>\n",
              "      <td>1</td>\n",
              "      <td>1</td>\n",
              "      <td>1</td>\n",
              "      <td>1</td>\n",
              "      <td>1</td>\n",
              "      <td>1</td>\n",
              "      <td>1</td>\n",
              "      <td>1</td>\n",
              "      <td>1</td>\n",
              "      <td>1</td>\n",
              "      <td>1</td>\n",
              "      <td>1</td>\n",
              "      <td>1</td>\n",
              "      <td>1</td>\n",
              "      <td>0</td>\n",
              "      <td>1</td>\n",
              "      <td>1</td>\n",
              "      <td>1</td>\n",
              "      <td>162.209</td>\n",
              "      <td>0</td>\n",
              "      <td>66</td>\n",
              "    </tr>\n",
              "  </tbody>\n",
              "</table>\n",
              "</div>"
            ],
            "text/plain": [
              "                                  smiles  ...  Valence Electrons\n",
              "0  CC12CCC3C(C1CCC2=O)CC=C4C3(CCC(C4)O)C  ...                116\n",
              "1                C[N+](C)(C)CC(CC(=O)O)O  ...                 66\n",
              "\n",
              "[2 rows x 28 columns]"
            ]
          },
          "metadata": {
            "tags": []
          },
          "execution_count": 29
        }
      ]
    },
    {
      "cell_type": "code",
      "metadata": {
        "id": "TyfmSJzIfoZD"
      },
      "source": [
        ""
      ],
      "execution_count": null,
      "outputs": []
    },
    {
      "cell_type": "markdown",
      "metadata": {
        "id": "dxGC8kLwT5LI"
      },
      "source": [
        "### Finger Print"
      ]
    },
    {
      "cell_type": "code",
      "metadata": {
        "id": "diGbj2jogrb-",
        "colab": {
          "base_uri": "https://localhost:8080/"
        },
        "outputId": "d6a5c397-3e41-4399-c603-d8cb903432a8"
      },
      "source": [
        "fingerprint = []\n",
        "bi={}\n",
        "for smile in sider.iloc[:,0]:\n",
        "  mol = Chem.MolFromSmiles(smile)\n",
        "  fingerprint.append(rdMolDescriptors.GetMorganFingerprintAsBitVect(mol, radius=2, bitInfo=bi))"
      ],
      "execution_count": null,
      "outputs": [
        {
          "output_type": "stream",
          "text": [
            "RDKit WARNING: [14:01:06] WARNING: not removing hydrogen atom without neighbors\n",
            "RDKit WARNING: [14:01:06] WARNING: not removing hydrogen atom without neighbors\n",
            "RDKit WARNING: [14:01:06] WARNING: not removing hydrogen atom without neighbors\n",
            "RDKit WARNING: [14:01:06] WARNING: not removing hydrogen atom without neighbors\n",
            "RDKit WARNING: [14:01:06] WARNING: not removing hydrogen atom without neighbors\n",
            "RDKit WARNING: [14:01:06] WARNING: not removing hydrogen atom without neighbors\n",
            "RDKit WARNING: [14:01:06] WARNING: not removing hydrogen atom without neighbors\n",
            "RDKit WARNING: [14:01:06] WARNING: not removing hydrogen atom without neighbors\n",
            "RDKit WARNING: [14:01:07] WARNING: not removing hydrogen atom without neighbors\n",
            "RDKit WARNING: [14:01:07] WARNING: not removing hydrogen atom without neighbors\n",
            "RDKit WARNING: [14:01:07] WARNING: not removing hydrogen atom without neighbors\n",
            "RDKit WARNING: [14:01:07] WARNING: not removing hydrogen atom without neighbors\n",
            "RDKit WARNING: [14:01:07] WARNING: not removing hydrogen atom without neighbors\n"
          ],
          "name": "stderr"
        }
      ]
    },
    {
      "cell_type": "code",
      "metadata": {
        "id": "6FjdeDnGsa28"
      },
      "source": [
        "sider['fingerprint']=fingerprint"
      ],
      "execution_count": null,
      "outputs": []
    },
    {
      "cell_type": "code",
      "metadata": {
        "colab": {
          "base_uri": "https://localhost:8080/",
          "height": 338
        },
        "id": "KtAzlGloh84g",
        "outputId": "c031dc84-a87c-4b2d-8f25-3078b49e7b82"
      },
      "source": [
        "sider.head(2)"
      ],
      "execution_count": null,
      "outputs": [
        {
          "output_type": "execute_result",
          "data": {
            "text/html": [
              "<div>\n",
              "<style scoped>\n",
              "    .dataframe tbody tr th:only-of-type {\n",
              "        vertical-align: middle;\n",
              "    }\n",
              "\n",
              "    .dataframe tbody tr th {\n",
              "        vertical-align: top;\n",
              "    }\n",
              "\n",
              "    .dataframe thead th {\n",
              "        text-align: right;\n",
              "    }\n",
              "</style>\n",
              "<table border=\"1\" class=\"dataframe\">\n",
              "  <thead>\n",
              "    <tr style=\"text-align: right;\">\n",
              "      <th></th>\n",
              "      <th>smiles</th>\n",
              "      <th>Hepatobiliary disorders</th>\n",
              "      <th>Metabolism and nutrition disorders</th>\n",
              "      <th>Eye disorders</th>\n",
              "      <th>Musculoskeletal and connective tissue disorders</th>\n",
              "      <th>Gastrointestinal disorders</th>\n",
              "      <th>Immune system disorders</th>\n",
              "      <th>Reproductive system and breast disorders</th>\n",
              "      <th>Neoplasms benign, malignant and unspecified (incl cysts and polyps)</th>\n",
              "      <th>General disorders and administration site conditions</th>\n",
              "      <th>Endocrine disorders</th>\n",
              "      <th>Surgical and medical procedures</th>\n",
              "      <th>Vascular disorders</th>\n",
              "      <th>Blood and lymphatic system disorders</th>\n",
              "      <th>Skin and subcutaneous tissue disorders</th>\n",
              "      <th>Congenital, familial and genetic disorders</th>\n",
              "      <th>Infections and infestations</th>\n",
              "      <th>Respiratory, thoracic and mediastinal disorders</th>\n",
              "      <th>Psychiatric disorders</th>\n",
              "      <th>Renal and urinary disorders</th>\n",
              "      <th>Pregnancy, puerperium and perinatal conditions</th>\n",
              "      <th>Ear and labyrinth disorders</th>\n",
              "      <th>Cardiac disorders</th>\n",
              "      <th>Nervous system disorders</th>\n",
              "      <th>Injury, poisoning and procedural complications</th>\n",
              "      <th>Molecular_Weights</th>\n",
              "      <th>Radical Electrons</th>\n",
              "      <th>Valence Electrons</th>\n",
              "      <th>fingerprint</th>\n",
              "    </tr>\n",
              "  </thead>\n",
              "  <tbody>\n",
              "    <tr>\n",
              "      <th>0</th>\n",
              "      <td>CC12CCC3C(C1CCC2=O)CC=C4C3(CCC(C4)O)C</td>\n",
              "      <td>1</td>\n",
              "      <td>1</td>\n",
              "      <td>0</td>\n",
              "      <td>1</td>\n",
              "      <td>1</td>\n",
              "      <td>1</td>\n",
              "      <td>1</td>\n",
              "      <td>1</td>\n",
              "      <td>1</td>\n",
              "      <td>1</td>\n",
              "      <td>1</td>\n",
              "      <td>1</td>\n",
              "      <td>1</td>\n",
              "      <td>1</td>\n",
              "      <td>0</td>\n",
              "      <td>1</td>\n",
              "      <td>1</td>\n",
              "      <td>1</td>\n",
              "      <td>1</td>\n",
              "      <td>0</td>\n",
              "      <td>1</td>\n",
              "      <td>1</td>\n",
              "      <td>1</td>\n",
              "      <td>1</td>\n",
              "      <td>288.431</td>\n",
              "      <td>0</td>\n",
              "      <td>116</td>\n",
              "      <td>[0, 0, 0, 0, 0, 0, 0, 1, 0, 0, 0, 0, 0, 0, 0, ...</td>\n",
              "    </tr>\n",
              "    <tr>\n",
              "      <th>1</th>\n",
              "      <td>C[N+](C)(C)CC(CC(=O)O)O</td>\n",
              "      <td>1</td>\n",
              "      <td>1</td>\n",
              "      <td>1</td>\n",
              "      <td>1</td>\n",
              "      <td>1</td>\n",
              "      <td>1</td>\n",
              "      <td>1</td>\n",
              "      <td>1</td>\n",
              "      <td>1</td>\n",
              "      <td>1</td>\n",
              "      <td>1</td>\n",
              "      <td>1</td>\n",
              "      <td>1</td>\n",
              "      <td>1</td>\n",
              "      <td>1</td>\n",
              "      <td>1</td>\n",
              "      <td>1</td>\n",
              "      <td>1</td>\n",
              "      <td>1</td>\n",
              "      <td>1</td>\n",
              "      <td>0</td>\n",
              "      <td>1</td>\n",
              "      <td>1</td>\n",
              "      <td>1</td>\n",
              "      <td>162.209</td>\n",
              "      <td>0</td>\n",
              "      <td>66</td>\n",
              "      <td>[0, 1, 0, 0, 0, 0, 0, 0, 0, 0, 0, 0, 0, 0, 0, ...</td>\n",
              "    </tr>\n",
              "  </tbody>\n",
              "</table>\n",
              "</div>"
            ],
            "text/plain": [
              "                                  smiles  ...                                        fingerprint\n",
              "0  CC12CCC3C(C1CCC2=O)CC=C4C3(CCC(C4)O)C  ...  [0, 0, 0, 0, 0, 0, 0, 1, 0, 0, 0, 0, 0, 0, 0, ...\n",
              "1                C[N+](C)(C)CC(CC(=O)O)O  ...  [0, 1, 0, 0, 0, 0, 0, 0, 0, 0, 0, 0, 0, 0, 0, ...\n",
              "\n",
              "[2 rows x 29 columns]"
            ]
          },
          "metadata": {
            "tags": []
          },
          "execution_count": 36
        }
      ]
    },
    {
      "cell_type": "code",
      "metadata": {
        "id": "XR7N620Hsa9r"
      },
      "source": [
        ""
      ],
      "execution_count": null,
      "outputs": []
    },
    {
      "cell_type": "code",
      "metadata": {
        "id": "5JCMIUI5sbBG"
      },
      "source": [
        ""
      ],
      "execution_count": null,
      "outputs": []
    },
    {
      "cell_type": "code",
      "metadata": {
        "id": "ifbvtr89sbFL"
      },
      "source": [
        ""
      ],
      "execution_count": null,
      "outputs": []
    },
    {
      "cell_type": "code",
      "metadata": {
        "id": "Nd-v8kj8sbI4"
      },
      "source": [
        ""
      ],
      "execution_count": null,
      "outputs": []
    },
    {
      "cell_type": "code",
      "metadata": {
        "id": "nWFo8t5bsbP3"
      },
      "source": [
        ""
      ],
      "execution_count": null,
      "outputs": []
    },
    {
      "cell_type": "code",
      "metadata": {
        "id": "thvGo-YpsbS9"
      },
      "source": [
        ""
      ],
      "execution_count": null,
      "outputs": []
    },
    {
      "cell_type": "code",
      "metadata": {
        "id": "sI66TnokCVwL"
      },
      "source": [
        ""
      ],
      "execution_count": null,
      "outputs": []
    }
  ]
}